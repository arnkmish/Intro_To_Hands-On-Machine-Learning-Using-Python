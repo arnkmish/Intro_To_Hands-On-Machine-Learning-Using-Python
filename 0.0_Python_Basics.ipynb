{
 "cells": [
  {
   "cell_type": "markdown",
   "metadata": {},
   "source": [
    "# Python Basics"
   ]
  },
  {
   "cell_type": "markdown",
   "metadata": {},
   "source": [
    "## Topics:\n",
    "\n",
    "1. Hello World!\n",
    "2. Python Data types\n",
    "3. Loops Loops Loops\n",
    "4. Conditioning\n",
    "5. Useful Data Structures"
   ]
  },
  {
   "cell_type": "markdown",
   "metadata": {},
   "source": [
    "### 1. Hello "
   ]
  },
  {
   "cell_type": "code",
   "execution_count": 1,
   "metadata": {},
   "outputs": [
    {
     "name": "stdout",
     "output_type": "stream",
     "text": [
      "Hello World!\n"
     ]
    }
   ],
   "source": [
    "print('Hello World!')"
   ]
  },
  {
   "cell_type": "markdown",
   "metadata": {},
   "source": [
    "Yes, it's that easy!!"
   ]
  },
  {
   "cell_type": "markdown",
   "metadata": {},
   "source": [
    "### 2. Python Data types"
   ]
  },
  {
   "cell_type": "markdown",
   "metadata": {},
   "source": [
    "str:     x = \"Hello World\"\n",
    "\n",
    "int:     x = 20\n",
    "\n",
    "float:   x = 20.5\n",
    "\n",
    "complex: x = 1j\n",
    "\n",
    "list:    x = ['apple', 'banana']\n",
    "\n",
    "tuple:   x = (\"apple\", \"banana\", \"cherry\")\n",
    "\n",
    "range:   x = range(6)\n",
    "\n",
    "dict:    x = {\"name\" : \"John\", \"age\" : 36}\n",
    "\n",
    "set:     x = {\"apple\", \"banana\", \"cherry\"}"
   ]
  },
  {
   "cell_type": "code",
   "execution_count": 10,
   "metadata": {
    "scrolled": true
   },
   "outputs": [
    {
     "name": "stdout",
     "output_type": "stream",
     "text": [
      "Hello World\n",
      "<class 'str'>\n",
      "\n",
      "\n",
      "20\n",
      "<class 'int'>\n",
      "\n",
      "\n",
      "20.5\n",
      "<class 'float'>\n",
      "\n",
      "\n",
      "1j\n",
      "<class 'complex'>\n",
      "\n",
      "\n",
      "['apple', 'banana']\n",
      "<class 'list'>\n",
      "\n",
      "\n",
      "('apple', 'banana', 'cherry')\n",
      "<class 'tuple'>\n",
      "\n",
      "\n",
      "range(0, 6)\n",
      "<class 'range'>\n",
      "\n",
      "\n",
      "{'name': 'John', 'age': 36}\n",
      "<class 'dict'>\n",
      "\n",
      "\n",
      "{'apple', 'banana', 'cherry'}\n",
      "<class 'set'>\n"
     ]
    }
   ],
   "source": [
    "x = \"Hello World\"\n",
    "print(x)\n",
    "print(type(x))\n",
    "\n",
    "print('\\n')\n",
    "x = 20\n",
    "print(x)\n",
    "print(type(x))\n",
    "\n",
    "print('\\n')\n",
    "x = 20.5\n",
    "print(x)\n",
    "print(type(x))\n",
    "\n",
    "print('\\n')\n",
    "x = 1j\n",
    "print(x)\n",
    "print(type(x))\n",
    "\n",
    "print('\\n')\n",
    "x = ['apple', 'banana']\n",
    "print(x)\n",
    "print(type(x))\n",
    "\n",
    "print('\\n')\n",
    "x = (\"apple\", \"banana\", \"cherry\")\n",
    "print(x)\n",
    "print(type(x))\n",
    "\n",
    "print('\\n')\n",
    "x = range(6)\n",
    "print(x)\n",
    "print(type(x))\n",
    "\n",
    "print('\\n')\n",
    "x = {\"name\" : \"John\", \"age\" : 36}\n",
    "print(x)\n",
    "print(type(x))\n",
    "\n",
    "print('\\n')\n",
    "x = {\"apple\", \"banana\", \"cherry\"}\n",
    "print(x)\n",
    "print(type(x))"
   ]
  },
  {
   "cell_type": "markdown",
   "metadata": {},
   "source": [
    "### 3. Loops In Python"
   ]
  },
  {
   "cell_type": "markdown",
   "metadata": {},
   "source": [
    "1. For Loop"
   ]
  },
  {
   "cell_type": "code",
   "execution_count": 2,
   "metadata": {
    "scrolled": true
   },
   "outputs": [
    {
     "name": "stdout",
     "output_type": "stream",
     "text": [
      "I am in the iteration number:  0\n",
      "I am in the iteration number:  1\n",
      "I am in the iteration number:  2\n",
      "I am in the iteration number:  3\n",
      "I am in the iteration number:  4\n",
      "I am in the iteration number:  5\n",
      "I am in the iteration number:  6\n",
      "I am in the iteration number:  7\n",
      "I am in the iteration number:  8\n",
      "I am in the iteration number:  9\n"
     ]
    }
   ],
   "source": [
    "# The following is a simple for loop for printing stuff...\n",
    "# Notice the indentation, it's very important in Python\n",
    "\n",
    "\n",
    "for i in range(10):\n",
    "    print('I am in the iteration number: ',i)"
   ]
  },
  {
   "cell_type": "markdown",
   "metadata": {},
   "source": [
    "range(start, stop, step)\n",
    "\n",
    "start: Optional. An integer number specifying at which position to start. Default is 0\n",
    "\n",
    "stop:  Required. An integer number specifying at which position to stop.\n",
    "\n",
    "step:  Optional. An integer number specifying the incrementation. Default is 1"
   ]
  },
  {
   "cell_type": "markdown",
   "metadata": {},
   "source": [
    "2. While Loops"
   ]
  },
  {
   "cell_type": "code",
   "execution_count": 4,
   "metadata": {},
   "outputs": [
    {
     "name": "stdout",
     "output_type": "stream",
     "text": [
      "The count is: 0\n",
      "The count is: 1\n",
      "The count is: 2\n",
      "The count is: 3\n",
      "The count is: 4\n",
      "The count is: 5\n",
      "The count is: 6\n",
      "The count is: 7\n",
      "The count is: 8\n"
     ]
    }
   ],
   "source": [
    "count = 0\n",
    "while (count < 9):\n",
    "   print('The count is:', count)\n",
    "   count = count + 1"
   ]
  },
  {
   "cell_type": "markdown",
   "metadata": {},
   "source": [
    "Breaking a loop"
   ]
  },
  {
   "cell_type": "code",
   "execution_count": 6,
   "metadata": {},
   "outputs": [
    {
     "name": "stdout",
     "output_type": "stream",
     "text": [
      "0\n",
      "1\n",
      "2\n",
      "3\n",
      "4\n",
      "5\n",
      "6\n"
     ]
    }
   ],
   "source": [
    "for i in range(10):\n",
    "    print(i)\n",
    "    if i > 5:\n",
    "        break"
   ]
  },
  {
   "cell_type": "markdown",
   "metadata": {},
   "source": [
    "### 4. Conditioning"
   ]
  },
  {
   "cell_type": "code",
   "execution_count": 5,
   "metadata": {},
   "outputs": [
    {
     "name": "stdout",
     "output_type": "stream",
     "text": [
      "Number is odd\n",
      "Grade B\n"
     ]
    }
   ],
   "source": [
    "# A simple if else conditioning\n",
    "num = 237\n",
    "\n",
    "if num%2 == 0:\n",
    "    print('Number is even')\n",
    "else:\n",
    "    print('Number is odd')\n",
    "    \n",
    "# An example of if-elif-else\n",
    "marks = 79\n",
    "\n",
    "if marks > 80:\n",
    "    print('Grade A')\n",
    "elif marks <=79 and marks > 60:\n",
    "    print('Grade B')\n",
    "else:\n",
    "    print('Grade F')"
   ]
  },
  {
   "cell_type": "markdown",
   "metadata": {},
   "source": [
    "### 5. Useful data structures"
   ]
  },
  {
   "cell_type": "code",
   "execution_count": 9,
   "metadata": {},
   "outputs": [
    {
     "name": "stdout",
     "output_type": "stream",
     "text": [
      "[0, 1, 2, 3, 4, 5, 6, 7, 8, 9]\n",
      "[3, 4, 5]\n",
      "0\n",
      "9\n"
     ]
    }
   ],
   "source": [
    "# The list data structure: Kind of like Arrays in other languages\n",
    "\n",
    "myList = list()\n",
    "\n",
    "# Put stuff into myList\n",
    "for i in range(10):\n",
    "    myList.append(i)\n",
    "\n",
    "print(myList)\n",
    "\n",
    "# List slicing\n",
    "print(myList[3:6])\n",
    "\n",
    "# Forward indexing\n",
    "print(myList[0])\n",
    "\n",
    "# Reverse indexing\n",
    "print(myList[-1])"
   ]
  },
  {
   "cell_type": "code",
   "execution_count": 15,
   "metadata": {},
   "outputs": [
    {
     "name": "stdout",
     "output_type": "stream",
     "text": [
      "1\n",
      "2\n",
      "3\n",
      "4\n",
      "{1, 2, 3, 4, 5}\n",
      "{1, 2, 3, 4}\n"
     ]
    }
   ],
   "source": [
    "# The set data structure\n",
    "\n",
    "mySet = {1,2,3,4}\n",
    "\n",
    "# The set data type do not support indexing, so instead we do the following...\n",
    "for item in mySet:\n",
    "    print(item)\n",
    "\n",
    "# Adding new stuffs to set\n",
    "\n",
    "mySet.add(5)\n",
    "mySet.add(4)\n",
    "print(mySet)\n",
    "    \n",
    "    \n",
    "# Converting a list to set removes duplicates\n",
    "myList = [1,2,2,2,3,3,4]\n",
    "\n",
    "print(set(myList))"
   ]
  },
  {
   "cell_type": "code",
   "execution_count": 21,
   "metadata": {},
   "outputs": [
    {
     "name": "stdout",
     "output_type": "stream",
     "text": [
      "{1: 'First', 2: 'Second', 3: 'Third'}\n",
      "Second\n",
      "1 First\n",
      "2 Second\n",
      "3 Third\n",
      "1 First\n",
      "2 Second\n",
      "3 Third\n",
      "Name Arnab\n"
     ]
    }
   ],
   "source": [
    "# The dictionary data structure: Equivalent to Hash Tables\n",
    "\n",
    "myDict = {1: 'First', 2: 'Second', 3: 'Third'}\n",
    "\n",
    "print(myDict)\n",
    "\n",
    "# Accessing an element\n",
    "print(myDict[2])\n",
    "\n",
    "# Find all the keys and values in the dictionary\n",
    "for key, value in myDict.items() :\n",
    "    print (key, value)\n",
    "    \n",
    "# Add stuff to dictionary\n",
    "myDict['Name'] = 'Arnab'\n",
    "\n",
    "for key, value in myDict.items() :\n",
    "    print (key, value)"
   ]
  },
  {
   "cell_type": "code",
   "execution_count": 22,
   "metadata": {},
   "outputs": [
    {
     "name": "stdout",
     "output_type": "stream",
     "text": [
      "tup1[0]:  physics\n",
      "tup2[1:5]:  (2, 3, 4, 5)\n",
      "(12, 34.56, 'abc', 'xyz')\n"
     ]
    }
   ],
   "source": [
    "# The tuple data structure\n",
    "\n",
    "tup1 = ('physics', 'chemistry', 1997, 2000)\n",
    "tup2 = (1, 2, 3, 4, 5, 6, 7 )\n",
    "\n",
    "print (\"tup1[0]: \", tup1[0])\n",
    "print (\"tup2[1:5]: \", tup2[1:5])\n",
    "\n",
    "\n",
    "tup1 = (12, 34.56)\n",
    "tup2 = ('abc', 'xyz')\n",
    "\n",
    "# Following action is not valid for tuples\n",
    "# tup1[0] = 100;\n",
    "\n",
    "# So let's create a new tuple as follows\n",
    "tup3 = tup1 + tup2\n",
    "print (tup3)"
   ]
  }
 ],
 "metadata": {
  "kernelspec": {
   "display_name": "Python 3",
   "language": "python",
   "name": "python3"
  },
  "language_info": {
   "codemirror_mode": {
    "name": "ipython",
    "version": 3
   },
   "file_extension": ".py",
   "mimetype": "text/x-python",
   "name": "python",
   "nbconvert_exporter": "python",
   "pygments_lexer": "ipython3",
   "version": "3.6.5"
  }
 },
 "nbformat": 4,
 "nbformat_minor": 2
}
