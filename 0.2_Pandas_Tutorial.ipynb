{
 "cells": [
  {
   "cell_type": "markdown",
   "metadata": {},
   "source": [
    "# A Super Short Intro to Pandas"
   ]
  },
  {
   "cell_type": "markdown",
   "metadata": {},
   "source": [
    "Pandas is a high level data manipulation tool in Python, that is extremely helpful while working with tabular data."
   ]
  },
  {
   "cell_type": "markdown",
   "metadata": {},
   "source": [
    "### Dataframes and Series"
   ]
  },
  {
   "cell_type": "markdown",
   "metadata": {},
   "source": [
    "- A Pandas Dataframe is used for storing Two Dimensional Tabular data, that can contain Heterogeneous data types.\n",
    "- A Pandas Dataframe is made up of Pandas Series."
   ]
  },
  {
   "cell_type": "code",
   "execution_count": 1,
   "metadata": {},
   "outputs": [],
   "source": [
    "# Import Pandas and other libraries\n",
    "\n",
    "import pandas as pd\n",
    "import numpy as np"
   ]
  },
  {
   "cell_type": "code",
   "execution_count": 2,
   "metadata": {},
   "outputs": [
    {
     "name": "stdout",
     "output_type": "stream",
     "text": [
      "0     1.0\n",
      "1     2.0\n",
      "2     3.0\n",
      "3     4.0\n",
      "4     5.0\n",
      "5     6.0\n",
      "6     NaN\n",
      "7     8.0\n",
      "8     9.0\n",
      "9    10.0\n",
      "dtype: float64\n"
     ]
    }
   ],
   "source": [
    "# Create a Pandas Series, with a NaN value\n",
    "\n",
    "s = pd.Series([1,2,3,4,5,6,np.nan,8,9,10])\n",
    "print(s)"
   ]
  },
  {
   "cell_type": "code",
   "execution_count": 3,
   "metadata": {},
   "outputs": [
    {
     "name": "stdout",
     "output_type": "stream",
     "text": [
      "DatetimeIndex(['2020-03-01', '2020-03-02', '2020-03-03', '2020-03-04',\n",
      "               '2020-03-05', '2020-03-06', '2020-03-07', '2020-03-08',\n",
      "               '2020-03-09', '2020-03-10'],\n",
      "              dtype='datetime64[ns]', freq='D')\n"
     ]
    }
   ],
   "source": [
    "# Create a Pandas Series, containing dates from March 01, 2020 to March 10, 2020\n",
    "d = pd.date_range('20200301', periods = 10)\n",
    "print(d)"
   ]
  },
  {
   "cell_type": "code",
   "execution_count": 4,
   "metadata": {},
   "outputs": [
    {
     "name": "stdout",
     "output_type": "stream",
     "text": [
      "                   A         B         C         D\n",
      "2020-03-01 -0.146292  0.323949  1.882928  1.242088\n",
      "2020-03-02  0.475268  0.202893  0.076442 -0.363540\n",
      "2020-03-03 -0.477466  0.887936 -0.271738 -0.579712\n",
      "2020-03-04  0.057061  0.620911  1.200638 -1.305464\n",
      "2020-03-05 -0.631735  0.979100 -1.414676  0.819946\n",
      "2020-03-06 -0.645971 -0.413545 -0.309198 -0.517066\n",
      "2020-03-07  0.422937  1.292645  0.102068 -0.381063\n",
      "2020-03-08 -2.922119 -0.490739 -2.058871  0.762872\n",
      "2020-03-09 -1.417187  0.525924  0.444228 -0.428087\n",
      "2020-03-10 -0.824650 -1.546095  0.375018  1.212360\n"
     ]
    }
   ],
   "source": [
    "# Creating a Pandas DataFrame of random numbers, wuth dates as index for each row..\n",
    "\n",
    "df = pd.DataFrame(np.random.randn(10,4),index = d, columns = ['A', 'B', 'C', 'D'])\n",
    "print(df)"
   ]
  },
  {
   "cell_type": "code",
   "execution_count": 5,
   "metadata": {},
   "outputs": [],
   "source": [
    "# Create Pandas dataframe with heterogeneous data, from a Python dictionary\n",
    "\n",
    "df1 = pd.DataFrame({'A': [1,2,3,4], \n",
    "                   'B': pd.Timestamp('20200301'),\n",
    "                    'C': pd.Series(1,index = list(range(4)),dtype = 'float32'), \n",
    "                   'D': np.array([5]*4, dtype='int32'), \n",
    "                   'E': pd.Categorical(['True', 'False', 'True', 'False']), \n",
    "                   'F': 'GUIST'})"
   ]
  },
  {
   "cell_type": "code",
   "execution_count": 6,
   "metadata": {},
   "outputs": [
    {
     "name": "stdout",
     "output_type": "stream",
     "text": [
      "   A          B    C  D      E      F\n",
      "0  1 2020-03-01  1.0  5   True  GUIST\n",
      "1  2 2020-03-01  1.0  5  False  GUIST\n",
      "2  3 2020-03-01  1.0  5   True  GUIST\n",
      "3  4 2020-03-01  1.0  5  False  GUIST\n",
      "A             int64\n",
      "B    datetime64[ns]\n",
      "C           float32\n",
      "D             int32\n",
      "E          category\n",
      "F            object\n",
      "dtype: object\n"
     ]
    }
   ],
   "source": [
    "# Now let's check the dataframe that we created..\n",
    "\n",
    "print(df1)\n",
    "print(df1.dtypes)"
   ]
  },
  {
   "cell_type": "code",
   "execution_count": 9,
   "metadata": {},
   "outputs": [
    {
     "data": {
      "text/html": [
       "<div>\n",
       "<style scoped>\n",
       "    .dataframe tbody tr th:only-of-type {\n",
       "        vertical-align: middle;\n",
       "    }\n",
       "\n",
       "    .dataframe tbody tr th {\n",
       "        vertical-align: top;\n",
       "    }\n",
       "\n",
       "    .dataframe thead th {\n",
       "        text-align: right;\n",
       "    }\n",
       "</style>\n",
       "<table border=\"1\" class=\"dataframe\">\n",
       "  <thead>\n",
       "    <tr style=\"text-align: right;\">\n",
       "      <th></th>\n",
       "      <th>A</th>\n",
       "      <th>B</th>\n",
       "      <th>C</th>\n",
       "      <th>D</th>\n",
       "    </tr>\n",
       "  </thead>\n",
       "  <tbody>\n",
       "    <tr>\n",
       "      <th>2020-03-01</th>\n",
       "      <td>-0.146292</td>\n",
       "      <td>0.323949</td>\n",
       "      <td>1.882928</td>\n",
       "      <td>1.242088</td>\n",
       "    </tr>\n",
       "    <tr>\n",
       "      <th>2020-03-02</th>\n",
       "      <td>0.475268</td>\n",
       "      <td>0.202893</td>\n",
       "      <td>0.076442</td>\n",
       "      <td>-0.363540</td>\n",
       "    </tr>\n",
       "    <tr>\n",
       "      <th>2020-03-03</th>\n",
       "      <td>-0.477466</td>\n",
       "      <td>0.887936</td>\n",
       "      <td>-0.271738</td>\n",
       "      <td>-0.579712</td>\n",
       "    </tr>\n",
       "    <tr>\n",
       "      <th>2020-03-04</th>\n",
       "      <td>0.057061</td>\n",
       "      <td>0.620911</td>\n",
       "      <td>1.200638</td>\n",
       "      <td>-1.305464</td>\n",
       "    </tr>\n",
       "    <tr>\n",
       "      <th>2020-03-05</th>\n",
       "      <td>-0.631735</td>\n",
       "      <td>0.979100</td>\n",
       "      <td>-1.414676</td>\n",
       "      <td>0.819946</td>\n",
       "    </tr>\n",
       "  </tbody>\n",
       "</table>\n",
       "</div>"
      ],
      "text/plain": [
       "                   A         B         C         D\n",
       "2020-03-01 -0.146292  0.323949  1.882928  1.242088\n",
       "2020-03-02  0.475268  0.202893  0.076442 -0.363540\n",
       "2020-03-03 -0.477466  0.887936 -0.271738 -0.579712\n",
       "2020-03-04  0.057061  0.620911  1.200638 -1.305464\n",
       "2020-03-05 -0.631735  0.979100 -1.414676  0.819946"
      ]
     },
     "execution_count": 9,
     "metadata": {},
     "output_type": "execute_result"
    }
   ],
   "source": [
    "# Checking the first 5 values of the dataframe\n",
    "df.head()"
   ]
  },
  {
   "cell_type": "code",
   "execution_count": 10,
   "metadata": {},
   "outputs": [
    {
     "data": {
      "text/html": [
       "<div>\n",
       "<style scoped>\n",
       "    .dataframe tbody tr th:only-of-type {\n",
       "        vertical-align: middle;\n",
       "    }\n",
       "\n",
       "    .dataframe tbody tr th {\n",
       "        vertical-align: top;\n",
       "    }\n",
       "\n",
       "    .dataframe thead th {\n",
       "        text-align: right;\n",
       "    }\n",
       "</style>\n",
       "<table border=\"1\" class=\"dataframe\">\n",
       "  <thead>\n",
       "    <tr style=\"text-align: right;\">\n",
       "      <th></th>\n",
       "      <th>A</th>\n",
       "      <th>B</th>\n",
       "      <th>C</th>\n",
       "      <th>D</th>\n",
       "    </tr>\n",
       "  </thead>\n",
       "  <tbody>\n",
       "    <tr>\n",
       "      <th>2020-03-06</th>\n",
       "      <td>-0.645971</td>\n",
       "      <td>-0.413545</td>\n",
       "      <td>-0.309198</td>\n",
       "      <td>-0.517066</td>\n",
       "    </tr>\n",
       "    <tr>\n",
       "      <th>2020-03-07</th>\n",
       "      <td>0.422937</td>\n",
       "      <td>1.292645</td>\n",
       "      <td>0.102068</td>\n",
       "      <td>-0.381063</td>\n",
       "    </tr>\n",
       "    <tr>\n",
       "      <th>2020-03-08</th>\n",
       "      <td>-2.922119</td>\n",
       "      <td>-0.490739</td>\n",
       "      <td>-2.058871</td>\n",
       "      <td>0.762872</td>\n",
       "    </tr>\n",
       "    <tr>\n",
       "      <th>2020-03-09</th>\n",
       "      <td>-1.417187</td>\n",
       "      <td>0.525924</td>\n",
       "      <td>0.444228</td>\n",
       "      <td>-0.428087</td>\n",
       "    </tr>\n",
       "    <tr>\n",
       "      <th>2020-03-10</th>\n",
       "      <td>-0.824650</td>\n",
       "      <td>-1.546095</td>\n",
       "      <td>0.375018</td>\n",
       "      <td>1.212360</td>\n",
       "    </tr>\n",
       "  </tbody>\n",
       "</table>\n",
       "</div>"
      ],
      "text/plain": [
       "                   A         B         C         D\n",
       "2020-03-06 -0.645971 -0.413545 -0.309198 -0.517066\n",
       "2020-03-07  0.422937  1.292645  0.102068 -0.381063\n",
       "2020-03-08 -2.922119 -0.490739 -2.058871  0.762872\n",
       "2020-03-09 -1.417187  0.525924  0.444228 -0.428087\n",
       "2020-03-10 -0.824650 -1.546095  0.375018  1.212360"
      ]
     },
     "execution_count": 10,
     "metadata": {},
     "output_type": "execute_result"
    }
   ],
   "source": [
    "# Checking the last 5 values of the dataframe\n",
    "df.tail()"
   ]
  },
  {
   "cell_type": "code",
   "execution_count": 11,
   "metadata": {},
   "outputs": [
    {
     "data": {
      "text/plain": [
       "DatetimeIndex(['2020-03-01', '2020-03-02', '2020-03-03', '2020-03-04',\n",
       "               '2020-03-05', '2020-03-06', '2020-03-07', '2020-03-08',\n",
       "               '2020-03-09', '2020-03-10'],\n",
       "              dtype='datetime64[ns]', freq='D')"
      ]
     },
     "execution_count": 11,
     "metadata": {},
     "output_type": "execute_result"
    }
   ],
   "source": [
    "# Check the indices of your dataframe.. \n",
    "\n",
    "df.index"
   ]
  },
  {
   "cell_type": "code",
   "execution_count": 13,
   "metadata": {},
   "outputs": [
    {
     "data": {
      "text/plain": [
       "Index(['A', 'B', 'C', 'D'], dtype='object')"
      ]
     },
     "execution_count": 13,
     "metadata": {},
     "output_type": "execute_result"
    }
   ],
   "source": [
    "# Check the Columns of a dataframe\n",
    "\n",
    "df.columns"
   ]
  },
  {
   "cell_type": "code",
   "execution_count": 14,
   "metadata": {},
   "outputs": [
    {
     "data": {
      "text/plain": [
       "array([[-0.14629229,  0.32394921,  1.88292769,  1.24208824],\n",
       "       [ 0.475268  ,  0.20289313,  0.07644237, -0.36353987],\n",
       "       [-0.47746627,  0.88793616, -0.27173769, -0.57971238],\n",
       "       [ 0.05706111,  0.62091083,  1.20063837, -1.30546444],\n",
       "       [-0.63173519,  0.97909987, -1.41467649,  0.8199464 ],\n",
       "       [-0.64597148, -0.41354457, -0.30919831, -0.51706583],\n",
       "       [ 0.42293733,  1.29264523,  0.10206755, -0.38106268],\n",
       "       [-2.92211905, -0.49073906, -2.05887089,  0.76287172],\n",
       "       [-1.41718743,  0.52592398,  0.44422812, -0.42808718],\n",
       "       [-0.82465006, -1.54609529,  0.3750176 ,  1.21236021]])"
      ]
     },
     "execution_count": 14,
     "metadata": {},
     "output_type": "execute_result"
    }
   ],
   "source": [
    "# Get the dataframe data in the Numpy array format\n",
    "\n",
    "df.to_numpy()"
   ]
  },
  {
   "cell_type": "code",
   "execution_count": 15,
   "metadata": {},
   "outputs": [
    {
     "data": {
      "text/html": [
       "<div>\n",
       "<style scoped>\n",
       "    .dataframe tbody tr th:only-of-type {\n",
       "        vertical-align: middle;\n",
       "    }\n",
       "\n",
       "    .dataframe tbody tr th {\n",
       "        vertical-align: top;\n",
       "    }\n",
       "\n",
       "    .dataframe thead th {\n",
       "        text-align: right;\n",
       "    }\n",
       "</style>\n",
       "<table border=\"1\" class=\"dataframe\">\n",
       "  <thead>\n",
       "    <tr style=\"text-align: right;\">\n",
       "      <th></th>\n",
       "      <th>A</th>\n",
       "      <th>B</th>\n",
       "      <th>C</th>\n",
       "      <th>D</th>\n",
       "    </tr>\n",
       "  </thead>\n",
       "  <tbody>\n",
       "    <tr>\n",
       "      <th>count</th>\n",
       "      <td>10.000000</td>\n",
       "      <td>10.000000</td>\n",
       "      <td>10.000000</td>\n",
       "      <td>10.000000</td>\n",
       "    </tr>\n",
       "    <tr>\n",
       "      <th>mean</th>\n",
       "      <td>-0.611016</td>\n",
       "      <td>0.238298</td>\n",
       "      <td>0.002684</td>\n",
       "      <td>0.046233</td>\n",
       "    </tr>\n",
       "    <tr>\n",
       "      <th>std</th>\n",
       "      <td>0.998199</td>\n",
       "      <td>0.847259</td>\n",
       "      <td>1.142649</td>\n",
       "      <td>0.882786</td>\n",
       "    </tr>\n",
       "    <tr>\n",
       "      <th>min</th>\n",
       "      <td>-2.922119</td>\n",
       "      <td>-1.546095</td>\n",
       "      <td>-2.058871</td>\n",
       "      <td>-1.305464</td>\n",
       "    </tr>\n",
       "    <tr>\n",
       "      <th>25%</th>\n",
       "      <td>-0.779980</td>\n",
       "      <td>-0.259435</td>\n",
       "      <td>-0.299833</td>\n",
       "      <td>-0.494821</td>\n",
       "    </tr>\n",
       "    <tr>\n",
       "      <th>50%</th>\n",
       "      <td>-0.554601</td>\n",
       "      <td>0.424937</td>\n",
       "      <td>0.089255</td>\n",
       "      <td>-0.372301</td>\n",
       "    </tr>\n",
       "    <tr>\n",
       "      <th>75%</th>\n",
       "      <td>0.006223</td>\n",
       "      <td>0.821180</td>\n",
       "      <td>0.426925</td>\n",
       "      <td>0.805678</td>\n",
       "    </tr>\n",
       "    <tr>\n",
       "      <th>max</th>\n",
       "      <td>0.475268</td>\n",
       "      <td>1.292645</td>\n",
       "      <td>1.882928</td>\n",
       "      <td>1.242088</td>\n",
       "    </tr>\n",
       "  </tbody>\n",
       "</table>\n",
       "</div>"
      ],
      "text/plain": [
       "               A          B          C          D\n",
       "count  10.000000  10.000000  10.000000  10.000000\n",
       "mean   -0.611016   0.238298   0.002684   0.046233\n",
       "std     0.998199   0.847259   1.142649   0.882786\n",
       "min    -2.922119  -1.546095  -2.058871  -1.305464\n",
       "25%    -0.779980  -0.259435  -0.299833  -0.494821\n",
       "50%    -0.554601   0.424937   0.089255  -0.372301\n",
       "75%     0.006223   0.821180   0.426925   0.805678\n",
       "max     0.475268   1.292645   1.882928   1.242088"
      ]
     },
     "execution_count": 15,
     "metadata": {},
     "output_type": "execute_result"
    }
   ],
   "source": [
    "# Get some statistics of your data inside the dataframe\n",
    "\n",
    "df.describe()"
   ]
  },
  {
   "cell_type": "code",
   "execution_count": 19,
   "metadata": {},
   "outputs": [
    {
     "data": {
      "text/html": [
       "<div>\n",
       "<style scoped>\n",
       "    .dataframe tbody tr th:only-of-type {\n",
       "        vertical-align: middle;\n",
       "    }\n",
       "\n",
       "    .dataframe tbody tr th {\n",
       "        vertical-align: top;\n",
       "    }\n",
       "\n",
       "    .dataframe thead th {\n",
       "        text-align: right;\n",
       "    }\n",
       "</style>\n",
       "<table border=\"1\" class=\"dataframe\">\n",
       "  <thead>\n",
       "    <tr style=\"text-align: right;\">\n",
       "      <th></th>\n",
       "      <th>A</th>\n",
       "      <th>B</th>\n",
       "      <th>C</th>\n",
       "      <th>D</th>\n",
       "    </tr>\n",
       "  </thead>\n",
       "  <tbody>\n",
       "    <tr>\n",
       "      <th>2020-03-10</th>\n",
       "      <td>-0.824650</td>\n",
       "      <td>-1.546095</td>\n",
       "      <td>0.375018</td>\n",
       "      <td>1.212360</td>\n",
       "    </tr>\n",
       "    <tr>\n",
       "      <th>2020-03-09</th>\n",
       "      <td>-1.417187</td>\n",
       "      <td>0.525924</td>\n",
       "      <td>0.444228</td>\n",
       "      <td>-0.428087</td>\n",
       "    </tr>\n",
       "    <tr>\n",
       "      <th>2020-03-08</th>\n",
       "      <td>-2.922119</td>\n",
       "      <td>-0.490739</td>\n",
       "      <td>-2.058871</td>\n",
       "      <td>0.762872</td>\n",
       "    </tr>\n",
       "    <tr>\n",
       "      <th>2020-03-07</th>\n",
       "      <td>0.422937</td>\n",
       "      <td>1.292645</td>\n",
       "      <td>0.102068</td>\n",
       "      <td>-0.381063</td>\n",
       "    </tr>\n",
       "    <tr>\n",
       "      <th>2020-03-06</th>\n",
       "      <td>-0.645971</td>\n",
       "      <td>-0.413545</td>\n",
       "      <td>-0.309198</td>\n",
       "      <td>-0.517066</td>\n",
       "    </tr>\n",
       "    <tr>\n",
       "      <th>2020-03-05</th>\n",
       "      <td>-0.631735</td>\n",
       "      <td>0.979100</td>\n",
       "      <td>-1.414676</td>\n",
       "      <td>0.819946</td>\n",
       "    </tr>\n",
       "    <tr>\n",
       "      <th>2020-03-04</th>\n",
       "      <td>0.057061</td>\n",
       "      <td>0.620911</td>\n",
       "      <td>1.200638</td>\n",
       "      <td>-1.305464</td>\n",
       "    </tr>\n",
       "    <tr>\n",
       "      <th>2020-03-03</th>\n",
       "      <td>-0.477466</td>\n",
       "      <td>0.887936</td>\n",
       "      <td>-0.271738</td>\n",
       "      <td>-0.579712</td>\n",
       "    </tr>\n",
       "    <tr>\n",
       "      <th>2020-03-02</th>\n",
       "      <td>0.475268</td>\n",
       "      <td>0.202893</td>\n",
       "      <td>0.076442</td>\n",
       "      <td>-0.363540</td>\n",
       "    </tr>\n",
       "    <tr>\n",
       "      <th>2020-03-01</th>\n",
       "      <td>-0.146292</td>\n",
       "      <td>0.323949</td>\n",
       "      <td>1.882928</td>\n",
       "      <td>1.242088</td>\n",
       "    </tr>\n",
       "  </tbody>\n",
       "</table>\n",
       "</div>"
      ],
      "text/plain": [
       "                   A         B         C         D\n",
       "2020-03-10 -0.824650 -1.546095  0.375018  1.212360\n",
       "2020-03-09 -1.417187  0.525924  0.444228 -0.428087\n",
       "2020-03-08 -2.922119 -0.490739 -2.058871  0.762872\n",
       "2020-03-07  0.422937  1.292645  0.102068 -0.381063\n",
       "2020-03-06 -0.645971 -0.413545 -0.309198 -0.517066\n",
       "2020-03-05 -0.631735  0.979100 -1.414676  0.819946\n",
       "2020-03-04  0.057061  0.620911  1.200638 -1.305464\n",
       "2020-03-03 -0.477466  0.887936 -0.271738 -0.579712\n",
       "2020-03-02  0.475268  0.202893  0.076442 -0.363540\n",
       "2020-03-01 -0.146292  0.323949  1.882928  1.242088"
      ]
     },
     "execution_count": 19,
     "metadata": {},
     "output_type": "execute_result"
    }
   ],
   "source": [
    "# Sorting by index\n",
    "\n",
    "df.sort_index(ascending = False)"
   ]
  },
  {
   "cell_type": "code",
   "execution_count": 20,
   "metadata": {},
   "outputs": [
    {
     "data": {
      "text/html": [
       "<div>\n",
       "<style scoped>\n",
       "    .dataframe tbody tr th:only-of-type {\n",
       "        vertical-align: middle;\n",
       "    }\n",
       "\n",
       "    .dataframe tbody tr th {\n",
       "        vertical-align: top;\n",
       "    }\n",
       "\n",
       "    .dataframe thead th {\n",
       "        text-align: right;\n",
       "    }\n",
       "</style>\n",
       "<table border=\"1\" class=\"dataframe\">\n",
       "  <thead>\n",
       "    <tr style=\"text-align: right;\">\n",
       "      <th></th>\n",
       "      <th>A</th>\n",
       "      <th>B</th>\n",
       "      <th>C</th>\n",
       "      <th>D</th>\n",
       "    </tr>\n",
       "  </thead>\n",
       "  <tbody>\n",
       "    <tr>\n",
       "      <th>2020-03-08</th>\n",
       "      <td>-2.922119</td>\n",
       "      <td>-0.490739</td>\n",
       "      <td>-2.058871</td>\n",
       "      <td>0.762872</td>\n",
       "    </tr>\n",
       "    <tr>\n",
       "      <th>2020-03-05</th>\n",
       "      <td>-0.631735</td>\n",
       "      <td>0.979100</td>\n",
       "      <td>-1.414676</td>\n",
       "      <td>0.819946</td>\n",
       "    </tr>\n",
       "    <tr>\n",
       "      <th>2020-03-06</th>\n",
       "      <td>-0.645971</td>\n",
       "      <td>-0.413545</td>\n",
       "      <td>-0.309198</td>\n",
       "      <td>-0.517066</td>\n",
       "    </tr>\n",
       "    <tr>\n",
       "      <th>2020-03-03</th>\n",
       "      <td>-0.477466</td>\n",
       "      <td>0.887936</td>\n",
       "      <td>-0.271738</td>\n",
       "      <td>-0.579712</td>\n",
       "    </tr>\n",
       "    <tr>\n",
       "      <th>2020-03-02</th>\n",
       "      <td>0.475268</td>\n",
       "      <td>0.202893</td>\n",
       "      <td>0.076442</td>\n",
       "      <td>-0.363540</td>\n",
       "    </tr>\n",
       "    <tr>\n",
       "      <th>2020-03-07</th>\n",
       "      <td>0.422937</td>\n",
       "      <td>1.292645</td>\n",
       "      <td>0.102068</td>\n",
       "      <td>-0.381063</td>\n",
       "    </tr>\n",
       "    <tr>\n",
       "      <th>2020-03-10</th>\n",
       "      <td>-0.824650</td>\n",
       "      <td>-1.546095</td>\n",
       "      <td>0.375018</td>\n",
       "      <td>1.212360</td>\n",
       "    </tr>\n",
       "    <tr>\n",
       "      <th>2020-03-09</th>\n",
       "      <td>-1.417187</td>\n",
       "      <td>0.525924</td>\n",
       "      <td>0.444228</td>\n",
       "      <td>-0.428087</td>\n",
       "    </tr>\n",
       "    <tr>\n",
       "      <th>2020-03-04</th>\n",
       "      <td>0.057061</td>\n",
       "      <td>0.620911</td>\n",
       "      <td>1.200638</td>\n",
       "      <td>-1.305464</td>\n",
       "    </tr>\n",
       "    <tr>\n",
       "      <th>2020-03-01</th>\n",
       "      <td>-0.146292</td>\n",
       "      <td>0.323949</td>\n",
       "      <td>1.882928</td>\n",
       "      <td>1.242088</td>\n",
       "    </tr>\n",
       "  </tbody>\n",
       "</table>\n",
       "</div>"
      ],
      "text/plain": [
       "                   A         B         C         D\n",
       "2020-03-08 -2.922119 -0.490739 -2.058871  0.762872\n",
       "2020-03-05 -0.631735  0.979100 -1.414676  0.819946\n",
       "2020-03-06 -0.645971 -0.413545 -0.309198 -0.517066\n",
       "2020-03-03 -0.477466  0.887936 -0.271738 -0.579712\n",
       "2020-03-02  0.475268  0.202893  0.076442 -0.363540\n",
       "2020-03-07  0.422937  1.292645  0.102068 -0.381063\n",
       "2020-03-10 -0.824650 -1.546095  0.375018  1.212360\n",
       "2020-03-09 -1.417187  0.525924  0.444228 -0.428087\n",
       "2020-03-04  0.057061  0.620911  1.200638 -1.305464\n",
       "2020-03-01 -0.146292  0.323949  1.882928  1.242088"
      ]
     },
     "execution_count": 20,
     "metadata": {},
     "output_type": "execute_result"
    }
   ],
   "source": [
    "# Sorting by values\n",
    "\n",
    "df.sort_values(by = 'C')"
   ]
  },
  {
   "cell_type": "code",
   "execution_count": 21,
   "metadata": {},
   "outputs": [
    {
     "data": {
      "text/plain": [
       "2020-03-01    1.882928\n",
       "2020-03-02    0.076442\n",
       "2020-03-03   -0.271738\n",
       "2020-03-04    1.200638\n",
       "2020-03-05   -1.414676\n",
       "2020-03-06   -0.309198\n",
       "2020-03-07    0.102068\n",
       "2020-03-08   -2.058871\n",
       "2020-03-09    0.444228\n",
       "2020-03-10    0.375018\n",
       "Freq: D, Name: C, dtype: float64"
      ]
     },
     "execution_count": 21,
     "metadata": {},
     "output_type": "execute_result"
    }
   ],
   "source": [
    "# Getting all data regarding a single columns\n",
    "\n",
    "df['C']"
   ]
  },
  {
   "cell_type": "code",
   "execution_count": 22,
   "metadata": {},
   "outputs": [
    {
     "data": {
      "text/html": [
       "<div>\n",
       "<style scoped>\n",
       "    .dataframe tbody tr th:only-of-type {\n",
       "        vertical-align: middle;\n",
       "    }\n",
       "\n",
       "    .dataframe tbody tr th {\n",
       "        vertical-align: top;\n",
       "    }\n",
       "\n",
       "    .dataframe thead th {\n",
       "        text-align: right;\n",
       "    }\n",
       "</style>\n",
       "<table border=\"1\" class=\"dataframe\">\n",
       "  <thead>\n",
       "    <tr style=\"text-align: right;\">\n",
       "      <th></th>\n",
       "      <th>A</th>\n",
       "      <th>B</th>\n",
       "      <th>C</th>\n",
       "      <th>D</th>\n",
       "    </tr>\n",
       "  </thead>\n",
       "  <tbody>\n",
       "    <tr>\n",
       "      <th>2020-03-01</th>\n",
       "      <td>-0.146292</td>\n",
       "      <td>0.323949</td>\n",
       "      <td>1.882928</td>\n",
       "      <td>1.242088</td>\n",
       "    </tr>\n",
       "    <tr>\n",
       "      <th>2020-03-02</th>\n",
       "      <td>0.475268</td>\n",
       "      <td>0.202893</td>\n",
       "      <td>0.076442</td>\n",
       "      <td>-0.363540</td>\n",
       "    </tr>\n",
       "    <tr>\n",
       "      <th>2020-03-03</th>\n",
       "      <td>-0.477466</td>\n",
       "      <td>0.887936</td>\n",
       "      <td>-0.271738</td>\n",
       "      <td>-0.579712</td>\n",
       "    </tr>\n",
       "  </tbody>\n",
       "</table>\n",
       "</div>"
      ],
      "text/plain": [
       "                   A         B         C         D\n",
       "2020-03-01 -0.146292  0.323949  1.882928  1.242088\n",
       "2020-03-02  0.475268  0.202893  0.076442 -0.363540\n",
       "2020-03-03 -0.477466  0.887936 -0.271738 -0.579712"
      ]
     },
     "execution_count": 22,
     "metadata": {},
     "output_type": "execute_result"
    }
   ],
   "source": [
    "# Slicing\n",
    "\n",
    "df[0:3]"
   ]
  },
  {
   "cell_type": "code",
   "execution_count": 23,
   "metadata": {},
   "outputs": [
    {
     "data": {
      "text/plain": [
       "A   -0.146292\n",
       "B    0.323949\n",
       "C    1.882928\n",
       "D    1.242088\n",
       "Name: 2020-03-01 00:00:00, dtype: float64"
      ]
     },
     "execution_count": 23,
     "metadata": {},
     "output_type": "execute_result"
    }
   ],
   "source": [
    "# Getting data by label\n",
    "\n",
    "df.loc[d[0]]"
   ]
  },
  {
   "cell_type": "code",
   "execution_count": 25,
   "metadata": {},
   "outputs": [
    {
     "data": {
      "text/html": [
       "<div>\n",
       "<style scoped>\n",
       "    .dataframe tbody tr th:only-of-type {\n",
       "        vertical-align: middle;\n",
       "    }\n",
       "\n",
       "    .dataframe tbody tr th {\n",
       "        vertical-align: top;\n",
       "    }\n",
       "\n",
       "    .dataframe thead th {\n",
       "        text-align: right;\n",
       "    }\n",
       "</style>\n",
       "<table border=\"1\" class=\"dataframe\">\n",
       "  <thead>\n",
       "    <tr style=\"text-align: right;\">\n",
       "      <th></th>\n",
       "      <th>A</th>\n",
       "      <th>C</th>\n",
       "    </tr>\n",
       "  </thead>\n",
       "  <tbody>\n",
       "    <tr>\n",
       "      <th>2020-03-01</th>\n",
       "      <td>-0.146292</td>\n",
       "      <td>1.882928</td>\n",
       "    </tr>\n",
       "    <tr>\n",
       "      <th>2020-03-02</th>\n",
       "      <td>0.475268</td>\n",
       "      <td>0.076442</td>\n",
       "    </tr>\n",
       "    <tr>\n",
       "      <th>2020-03-03</th>\n",
       "      <td>-0.477466</td>\n",
       "      <td>-0.271738</td>\n",
       "    </tr>\n",
       "    <tr>\n",
       "      <th>2020-03-04</th>\n",
       "      <td>0.057061</td>\n",
       "      <td>1.200638</td>\n",
       "    </tr>\n",
       "    <tr>\n",
       "      <th>2020-03-05</th>\n",
       "      <td>-0.631735</td>\n",
       "      <td>-1.414676</td>\n",
       "    </tr>\n",
       "    <tr>\n",
       "      <th>2020-03-06</th>\n",
       "      <td>-0.645971</td>\n",
       "      <td>-0.309198</td>\n",
       "    </tr>\n",
       "    <tr>\n",
       "      <th>2020-03-07</th>\n",
       "      <td>0.422937</td>\n",
       "      <td>0.102068</td>\n",
       "    </tr>\n",
       "    <tr>\n",
       "      <th>2020-03-08</th>\n",
       "      <td>-2.922119</td>\n",
       "      <td>-2.058871</td>\n",
       "    </tr>\n",
       "    <tr>\n",
       "      <th>2020-03-09</th>\n",
       "      <td>-1.417187</td>\n",
       "      <td>0.444228</td>\n",
       "    </tr>\n",
       "    <tr>\n",
       "      <th>2020-03-10</th>\n",
       "      <td>-0.824650</td>\n",
       "      <td>0.375018</td>\n",
       "    </tr>\n",
       "  </tbody>\n",
       "</table>\n",
       "</div>"
      ],
      "text/plain": [
       "                   A         C\n",
       "2020-03-01 -0.146292  1.882928\n",
       "2020-03-02  0.475268  0.076442\n",
       "2020-03-03 -0.477466 -0.271738\n",
       "2020-03-04  0.057061  1.200638\n",
       "2020-03-05 -0.631735 -1.414676\n",
       "2020-03-06 -0.645971 -0.309198\n",
       "2020-03-07  0.422937  0.102068\n",
       "2020-03-08 -2.922119 -2.058871\n",
       "2020-03-09 -1.417187  0.444228\n",
       "2020-03-10 -0.824650  0.375018"
      ]
     },
     "execution_count": 25,
     "metadata": {},
     "output_type": "execute_result"
    }
   ],
   "source": [
    "# Get multiple columns\n",
    "\n",
    "df.loc[:,['A', 'C']]"
   ]
  },
  {
   "cell_type": "code",
   "execution_count": 26,
   "metadata": {},
   "outputs": [
    {
     "data": {
      "text/html": [
       "<div>\n",
       "<style scoped>\n",
       "    .dataframe tbody tr th:only-of-type {\n",
       "        vertical-align: middle;\n",
       "    }\n",
       "\n",
       "    .dataframe tbody tr th {\n",
       "        vertical-align: top;\n",
       "    }\n",
       "\n",
       "    .dataframe thead th {\n",
       "        text-align: right;\n",
       "    }\n",
       "</style>\n",
       "<table border=\"1\" class=\"dataframe\">\n",
       "  <thead>\n",
       "    <tr style=\"text-align: right;\">\n",
       "      <th></th>\n",
       "      <th>D</th>\n",
       "      <th>C</th>\n",
       "    </tr>\n",
       "  </thead>\n",
       "  <tbody>\n",
       "    <tr>\n",
       "      <th>2020-03-01</th>\n",
       "      <td>1.242088</td>\n",
       "      <td>1.882928</td>\n",
       "    </tr>\n",
       "    <tr>\n",
       "      <th>2020-03-02</th>\n",
       "      <td>-0.363540</td>\n",
       "      <td>0.076442</td>\n",
       "    </tr>\n",
       "    <tr>\n",
       "      <th>2020-03-03</th>\n",
       "      <td>-0.579712</td>\n",
       "      <td>-0.271738</td>\n",
       "    </tr>\n",
       "    <tr>\n",
       "      <th>2020-03-04</th>\n",
       "      <td>-1.305464</td>\n",
       "      <td>1.200638</td>\n",
       "    </tr>\n",
       "    <tr>\n",
       "      <th>2020-03-05</th>\n",
       "      <td>0.819946</td>\n",
       "      <td>-1.414676</td>\n",
       "    </tr>\n",
       "    <tr>\n",
       "      <th>2020-03-06</th>\n",
       "      <td>-0.517066</td>\n",
       "      <td>-0.309198</td>\n",
       "    </tr>\n",
       "  </tbody>\n",
       "</table>\n",
       "</div>"
      ],
      "text/plain": [
       "                   D         C\n",
       "2020-03-01  1.242088  1.882928\n",
       "2020-03-02 -0.363540  0.076442\n",
       "2020-03-03 -0.579712 -0.271738\n",
       "2020-03-04 -1.305464  1.200638\n",
       "2020-03-05  0.819946 -1.414676\n",
       "2020-03-06 -0.517066 -0.309198"
      ]
     },
     "execution_count": 26,
     "metadata": {},
     "output_type": "execute_result"
    }
   ],
   "source": [
    "# More ways to print subset of your data\n",
    "\n",
    "df.loc['20200301':'20200306', ['D', 'C']]"
   ]
  },
  {
   "cell_type": "code",
   "execution_count": 27,
   "metadata": {},
   "outputs": [
    {
     "data": {
      "text/plain": [
       "1.8829276904059282"
      ]
     },
     "execution_count": 27,
     "metadata": {},
     "output_type": "execute_result"
    }
   ],
   "source": [
    "# Getting individual values\n",
    "\n",
    "df.at['20200301','C']"
   ]
  },
  {
   "cell_type": "code",
   "execution_count": 29,
   "metadata": {},
   "outputs": [
    {
     "data": {
      "text/plain": [
       "0.05706111071686716"
      ]
     },
     "execution_count": 29,
     "metadata": {},
     "output_type": "execute_result"
    }
   ],
   "source": [
    "# Getting data using indices\n",
    "\n",
    "# df.iloc[3]\n",
    "df.iloc[3][0]"
   ]
  },
  {
   "cell_type": "code",
   "execution_count": 30,
   "metadata": {},
   "outputs": [
    {
     "data": {
      "text/html": [
       "<div>\n",
       "<style scoped>\n",
       "    .dataframe tbody tr th:only-of-type {\n",
       "        vertical-align: middle;\n",
       "    }\n",
       "\n",
       "    .dataframe tbody tr th {\n",
       "        vertical-align: top;\n",
       "    }\n",
       "\n",
       "    .dataframe thead th {\n",
       "        text-align: right;\n",
       "    }\n",
       "</style>\n",
       "<table border=\"1\" class=\"dataframe\">\n",
       "  <thead>\n",
       "    <tr style=\"text-align: right;\">\n",
       "      <th></th>\n",
       "      <th>A</th>\n",
       "      <th>B</th>\n",
       "      <th>C</th>\n",
       "      <th>D</th>\n",
       "    </tr>\n",
       "  </thead>\n",
       "  <tbody>\n",
       "    <tr>\n",
       "      <th>2020-03-02</th>\n",
       "      <td>0.475268</td>\n",
       "      <td>0.202893</td>\n",
       "      <td>0.076442</td>\n",
       "      <td>-0.363540</td>\n",
       "    </tr>\n",
       "    <tr>\n",
       "      <th>2020-03-04</th>\n",
       "      <td>0.057061</td>\n",
       "      <td>0.620911</td>\n",
       "      <td>1.200638</td>\n",
       "      <td>-1.305464</td>\n",
       "    </tr>\n",
       "    <tr>\n",
       "      <th>2020-03-07</th>\n",
       "      <td>0.422937</td>\n",
       "      <td>1.292645</td>\n",
       "      <td>0.102068</td>\n",
       "      <td>-0.381063</td>\n",
       "    </tr>\n",
       "  </tbody>\n",
       "</table>\n",
       "</div>"
      ],
      "text/plain": [
       "                   A         B         C         D\n",
       "2020-03-02  0.475268  0.202893  0.076442 -0.363540\n",
       "2020-03-04  0.057061  0.620911  1.200638 -1.305464\n",
       "2020-03-07  0.422937  1.292645  0.102068 -0.381063"
      ]
     },
     "execution_count": 30,
     "metadata": {},
     "output_type": "execute_result"
    }
   ],
   "source": [
    "# Boolean indexing\n",
    "\n",
    "df[df['A'] > 0]"
   ]
  },
  {
   "cell_type": "markdown",
   "metadata": {},
   "source": [
    "#### Handling missing data!!"
   ]
  },
  {
   "cell_type": "code",
   "execution_count": 33,
   "metadata": {},
   "outputs": [],
   "source": [
    "# Create a Dataframe with NaN values\n",
    "\n",
    "df2 = df.reindex(index = d[0:4], columns = list(df.columns)+['E'])\n",
    "df2.loc[d[0]:d[1], 'E'] = 1"
   ]
  },
  {
   "cell_type": "code",
   "execution_count": 34,
   "metadata": {},
   "outputs": [
    {
     "data": {
      "text/html": [
       "<div>\n",
       "<style scoped>\n",
       "    .dataframe tbody tr th:only-of-type {\n",
       "        vertical-align: middle;\n",
       "    }\n",
       "\n",
       "    .dataframe tbody tr th {\n",
       "        vertical-align: top;\n",
       "    }\n",
       "\n",
       "    .dataframe thead th {\n",
       "        text-align: right;\n",
       "    }\n",
       "</style>\n",
       "<table border=\"1\" class=\"dataframe\">\n",
       "  <thead>\n",
       "    <tr style=\"text-align: right;\">\n",
       "      <th></th>\n",
       "      <th>A</th>\n",
       "      <th>B</th>\n",
       "      <th>C</th>\n",
       "      <th>D</th>\n",
       "      <th>E</th>\n",
       "    </tr>\n",
       "  </thead>\n",
       "  <tbody>\n",
       "    <tr>\n",
       "      <th>2020-03-01</th>\n",
       "      <td>-0.146292</td>\n",
       "      <td>0.323949</td>\n",
       "      <td>1.882928</td>\n",
       "      <td>1.242088</td>\n",
       "      <td>1.0</td>\n",
       "    </tr>\n",
       "    <tr>\n",
       "      <th>2020-03-02</th>\n",
       "      <td>0.475268</td>\n",
       "      <td>0.202893</td>\n",
       "      <td>0.076442</td>\n",
       "      <td>-0.363540</td>\n",
       "      <td>1.0</td>\n",
       "    </tr>\n",
       "    <tr>\n",
       "      <th>2020-03-03</th>\n",
       "      <td>-0.477466</td>\n",
       "      <td>0.887936</td>\n",
       "      <td>-0.271738</td>\n",
       "      <td>-0.579712</td>\n",
       "      <td>NaN</td>\n",
       "    </tr>\n",
       "    <tr>\n",
       "      <th>2020-03-04</th>\n",
       "      <td>0.057061</td>\n",
       "      <td>0.620911</td>\n",
       "      <td>1.200638</td>\n",
       "      <td>-1.305464</td>\n",
       "      <td>NaN</td>\n",
       "    </tr>\n",
       "  </tbody>\n",
       "</table>\n",
       "</div>"
      ],
      "text/plain": [
       "                   A         B         C         D    E\n",
       "2020-03-01 -0.146292  0.323949  1.882928  1.242088  1.0\n",
       "2020-03-02  0.475268  0.202893  0.076442 -0.363540  1.0\n",
       "2020-03-03 -0.477466  0.887936 -0.271738 -0.579712  NaN\n",
       "2020-03-04  0.057061  0.620911  1.200638 -1.305464  NaN"
      ]
     },
     "execution_count": 34,
     "metadata": {},
     "output_type": "execute_result"
    }
   ],
   "source": [
    "df2"
   ]
  },
  {
   "cell_type": "code",
   "execution_count": 41,
   "metadata": {},
   "outputs": [
    {
     "data": {
      "text/html": [
       "<div>\n",
       "<style scoped>\n",
       "    .dataframe tbody tr th:only-of-type {\n",
       "        vertical-align: middle;\n",
       "    }\n",
       "\n",
       "    .dataframe tbody tr th {\n",
       "        vertical-align: top;\n",
       "    }\n",
       "\n",
       "    .dataframe thead th {\n",
       "        text-align: right;\n",
       "    }\n",
       "</style>\n",
       "<table border=\"1\" class=\"dataframe\">\n",
       "  <thead>\n",
       "    <tr style=\"text-align: right;\">\n",
       "      <th></th>\n",
       "      <th>A</th>\n",
       "      <th>B</th>\n",
       "      <th>C</th>\n",
       "      <th>D</th>\n",
       "      <th>E</th>\n",
       "    </tr>\n",
       "  </thead>\n",
       "  <tbody>\n",
       "    <tr>\n",
       "      <th>2020-03-01</th>\n",
       "      <td>False</td>\n",
       "      <td>False</td>\n",
       "      <td>False</td>\n",
       "      <td>False</td>\n",
       "      <td>False</td>\n",
       "    </tr>\n",
       "    <tr>\n",
       "      <th>2020-03-02</th>\n",
       "      <td>False</td>\n",
       "      <td>False</td>\n",
       "      <td>False</td>\n",
       "      <td>False</td>\n",
       "      <td>False</td>\n",
       "    </tr>\n",
       "    <tr>\n",
       "      <th>2020-03-03</th>\n",
       "      <td>False</td>\n",
       "      <td>False</td>\n",
       "      <td>False</td>\n",
       "      <td>False</td>\n",
       "      <td>True</td>\n",
       "    </tr>\n",
       "    <tr>\n",
       "      <th>2020-03-04</th>\n",
       "      <td>False</td>\n",
       "      <td>False</td>\n",
       "      <td>False</td>\n",
       "      <td>False</td>\n",
       "      <td>True</td>\n",
       "    </tr>\n",
       "  </tbody>\n",
       "</table>\n",
       "</div>"
      ],
      "text/plain": [
       "                A      B      C      D      E\n",
       "2020-03-01  False  False  False  False  False\n",
       "2020-03-02  False  False  False  False  False\n",
       "2020-03-03  False  False  False  False   True\n",
       "2020-03-04  False  False  False  False   True"
      ]
     },
     "execution_count": 41,
     "metadata": {},
     "output_type": "execute_result"
    }
   ],
   "source": [
    "# Find out where NaN values are present\n",
    "\n",
    "df2.isna()"
   ]
  },
  {
   "cell_type": "code",
   "execution_count": 42,
   "metadata": {},
   "outputs": [
    {
     "data": {
      "text/plain": [
       "A    0\n",
       "B    0\n",
       "C    0\n",
       "D    0\n",
       "E    2\n",
       "dtype: int64"
      ]
     },
     "execution_count": 42,
     "metadata": {},
     "output_type": "execute_result"
    }
   ],
   "source": [
    "# Find the column wise count of NaN values\n",
    "\n",
    "df2.isna().sum()"
   ]
  },
  {
   "cell_type": "code",
   "execution_count": 43,
   "metadata": {},
   "outputs": [
    {
     "data": {
      "text/html": [
       "<div>\n",
       "<style scoped>\n",
       "    .dataframe tbody tr th:only-of-type {\n",
       "        vertical-align: middle;\n",
       "    }\n",
       "\n",
       "    .dataframe tbody tr th {\n",
       "        vertical-align: top;\n",
       "    }\n",
       "\n",
       "    .dataframe thead th {\n",
       "        text-align: right;\n",
       "    }\n",
       "</style>\n",
       "<table border=\"1\" class=\"dataframe\">\n",
       "  <thead>\n",
       "    <tr style=\"text-align: right;\">\n",
       "      <th></th>\n",
       "      <th>A</th>\n",
       "      <th>B</th>\n",
       "      <th>C</th>\n",
       "      <th>D</th>\n",
       "      <th>E</th>\n",
       "    </tr>\n",
       "  </thead>\n",
       "  <tbody>\n",
       "    <tr>\n",
       "      <th>2020-03-01</th>\n",
       "      <td>-0.146292</td>\n",
       "      <td>0.323949</td>\n",
       "      <td>1.882928</td>\n",
       "      <td>1.242088</td>\n",
       "      <td>1.0</td>\n",
       "    </tr>\n",
       "    <tr>\n",
       "      <th>2020-03-02</th>\n",
       "      <td>0.475268</td>\n",
       "      <td>0.202893</td>\n",
       "      <td>0.076442</td>\n",
       "      <td>-0.363540</td>\n",
       "      <td>1.0</td>\n",
       "    </tr>\n",
       "  </tbody>\n",
       "</table>\n",
       "</div>"
      ],
      "text/plain": [
       "                   A         B         C         D    E\n",
       "2020-03-01 -0.146292  0.323949  1.882928  1.242088  1.0\n",
       "2020-03-02  0.475268  0.202893  0.076442 -0.363540  1.0"
      ]
     },
     "execution_count": 43,
     "metadata": {},
     "output_type": "execute_result"
    }
   ],
   "source": [
    "# Drop the rows with NaN values\n",
    "\n",
    "df2.dropna()"
   ]
  },
  {
   "cell_type": "code",
   "execution_count": 44,
   "metadata": {},
   "outputs": [
    {
     "data": {
      "text/html": [
       "<div>\n",
       "<style scoped>\n",
       "    .dataframe tbody tr th:only-of-type {\n",
       "        vertical-align: middle;\n",
       "    }\n",
       "\n",
       "    .dataframe tbody tr th {\n",
       "        vertical-align: top;\n",
       "    }\n",
       "\n",
       "    .dataframe thead th {\n",
       "        text-align: right;\n",
       "    }\n",
       "</style>\n",
       "<table border=\"1\" class=\"dataframe\">\n",
       "  <thead>\n",
       "    <tr style=\"text-align: right;\">\n",
       "      <th></th>\n",
       "      <th>A</th>\n",
       "      <th>B</th>\n",
       "      <th>C</th>\n",
       "      <th>D</th>\n",
       "      <th>E</th>\n",
       "    </tr>\n",
       "  </thead>\n",
       "  <tbody>\n",
       "    <tr>\n",
       "      <th>2020-03-01</th>\n",
       "      <td>-0.146292</td>\n",
       "      <td>0.323949</td>\n",
       "      <td>1.882928</td>\n",
       "      <td>1.242088</td>\n",
       "      <td>1.0</td>\n",
       "    </tr>\n",
       "    <tr>\n",
       "      <th>2020-03-02</th>\n",
       "      <td>0.475268</td>\n",
       "      <td>0.202893</td>\n",
       "      <td>0.076442</td>\n",
       "      <td>-0.363540</td>\n",
       "      <td>1.0</td>\n",
       "    </tr>\n",
       "    <tr>\n",
       "      <th>2020-03-03</th>\n",
       "      <td>-0.477466</td>\n",
       "      <td>0.887936</td>\n",
       "      <td>-0.271738</td>\n",
       "      <td>-0.579712</td>\n",
       "      <td>NaN</td>\n",
       "    </tr>\n",
       "    <tr>\n",
       "      <th>2020-03-04</th>\n",
       "      <td>0.057061</td>\n",
       "      <td>0.620911</td>\n",
       "      <td>1.200638</td>\n",
       "      <td>-1.305464</td>\n",
       "      <td>NaN</td>\n",
       "    </tr>\n",
       "  </tbody>\n",
       "</table>\n",
       "</div>"
      ],
      "text/plain": [
       "                   A         B         C         D    E\n",
       "2020-03-01 -0.146292  0.323949  1.882928  1.242088  1.0\n",
       "2020-03-02  0.475268  0.202893  0.076442 -0.363540  1.0\n",
       "2020-03-03 -0.477466  0.887936 -0.271738 -0.579712  NaN\n",
       "2020-03-04  0.057061  0.620911  1.200638 -1.305464  NaN"
      ]
     },
     "execution_count": 44,
     "metadata": {},
     "output_type": "execute_result"
    }
   ],
   "source": [
    "df2"
   ]
  },
  {
   "cell_type": "code",
   "execution_count": 45,
   "metadata": {},
   "outputs": [
    {
     "data": {
      "text/html": [
       "<div>\n",
       "<style scoped>\n",
       "    .dataframe tbody tr th:only-of-type {\n",
       "        vertical-align: middle;\n",
       "    }\n",
       "\n",
       "    .dataframe tbody tr th {\n",
       "        vertical-align: top;\n",
       "    }\n",
       "\n",
       "    .dataframe thead th {\n",
       "        text-align: right;\n",
       "    }\n",
       "</style>\n",
       "<table border=\"1\" class=\"dataframe\">\n",
       "  <thead>\n",
       "    <tr style=\"text-align: right;\">\n",
       "      <th></th>\n",
       "      <th>A</th>\n",
       "      <th>B</th>\n",
       "      <th>C</th>\n",
       "      <th>D</th>\n",
       "      <th>E</th>\n",
       "    </tr>\n",
       "  </thead>\n",
       "  <tbody>\n",
       "    <tr>\n",
       "      <th>2020-03-01</th>\n",
       "      <td>-0.146292</td>\n",
       "      <td>0.323949</td>\n",
       "      <td>1.882928</td>\n",
       "      <td>1.242088</td>\n",
       "      <td>1.0</td>\n",
       "    </tr>\n",
       "    <tr>\n",
       "      <th>2020-03-02</th>\n",
       "      <td>0.475268</td>\n",
       "      <td>0.202893</td>\n",
       "      <td>0.076442</td>\n",
       "      <td>-0.363540</td>\n",
       "      <td>1.0</td>\n",
       "    </tr>\n",
       "    <tr>\n",
       "      <th>2020-03-03</th>\n",
       "      <td>-0.477466</td>\n",
       "      <td>0.887936</td>\n",
       "      <td>-0.271738</td>\n",
       "      <td>-0.579712</td>\n",
       "      <td>2.0</td>\n",
       "    </tr>\n",
       "    <tr>\n",
       "      <th>2020-03-04</th>\n",
       "      <td>0.057061</td>\n",
       "      <td>0.620911</td>\n",
       "      <td>1.200638</td>\n",
       "      <td>-1.305464</td>\n",
       "      <td>2.0</td>\n",
       "    </tr>\n",
       "  </tbody>\n",
       "</table>\n",
       "</div>"
      ],
      "text/plain": [
       "                   A         B         C         D    E\n",
       "2020-03-01 -0.146292  0.323949  1.882928  1.242088  1.0\n",
       "2020-03-02  0.475268  0.202893  0.076442 -0.363540  1.0\n",
       "2020-03-03 -0.477466  0.887936 -0.271738 -0.579712  2.0\n",
       "2020-03-04  0.057061  0.620911  1.200638 -1.305464  2.0"
      ]
     },
     "execution_count": 45,
     "metadata": {},
     "output_type": "execute_result"
    }
   ],
   "source": [
    "# Next we are going to try to fill the missing values\n",
    "\n",
    "df2.fillna(value = 2)"
   ]
  },
  {
   "cell_type": "markdown",
   "metadata": {},
   "source": [
    "#### Pandas Operations"
   ]
  },
  {
   "cell_type": "code",
   "execution_count": 46,
   "metadata": {},
   "outputs": [
    {
     "data": {
      "text/plain": [
       "A   -0.611016\n",
       "B    0.238298\n",
       "C    0.002684\n",
       "D    0.046233\n",
       "dtype: float64"
      ]
     },
     "execution_count": 46,
     "metadata": {},
     "output_type": "execute_result"
    }
   ],
   "source": [
    "df.mean()"
   ]
  },
  {
   "cell_type": "code",
   "execution_count": 48,
   "metadata": {},
   "outputs": [
    {
     "data": {
      "text/plain": [
       "A    3.397387\n",
       "B    2.838741\n",
       "C    3.941799\n",
       "D    2.547553\n",
       "dtype: float64"
      ]
     },
     "execution_count": 48,
     "metadata": {},
     "output_type": "execute_result"
    }
   ],
   "source": [
    "df.apply(lambda x: x.max() - x.min())"
   ]
  },
  {
   "cell_type": "code",
   "execution_count": 51,
   "metadata": {},
   "outputs": [
    {
     "data": {
      "text/plain": [
       "0       GUIST\n",
       "1      PYTHON\n",
       "2     JUPYTER\n",
       "3         NaN\n",
       "4    FOOTBALL\n",
       "5       WORLD\n",
       "dtype: object"
      ]
     },
     "execution_count": 51,
     "metadata": {},
     "output_type": "execute_result"
    }
   ],
   "source": [
    "s = pd.Series(['GUIST', 'Python', 'Jupyter', np.nan, 'Football','World'])\n",
    "s.str.upper()"
   ]
  },
  {
   "cell_type": "markdown",
   "metadata": {},
   "source": [
    "#### Concatenate Dataframes"
   ]
  },
  {
   "cell_type": "code",
   "execution_count": 52,
   "metadata": {},
   "outputs": [
    {
     "data": {
      "text/html": [
       "<div>\n",
       "<style scoped>\n",
       "    .dataframe tbody tr th:only-of-type {\n",
       "        vertical-align: middle;\n",
       "    }\n",
       "\n",
       "    .dataframe tbody tr th {\n",
       "        vertical-align: top;\n",
       "    }\n",
       "\n",
       "    .dataframe thead th {\n",
       "        text-align: right;\n",
       "    }\n",
       "</style>\n",
       "<table border=\"1\" class=\"dataframe\">\n",
       "  <thead>\n",
       "    <tr style=\"text-align: right;\">\n",
       "      <th></th>\n",
       "      <th>0</th>\n",
       "      <th>1</th>\n",
       "      <th>2</th>\n",
       "      <th>3</th>\n",
       "    </tr>\n",
       "  </thead>\n",
       "  <tbody>\n",
       "    <tr>\n",
       "      <th>0</th>\n",
       "      <td>-0.110448</td>\n",
       "      <td>-0.354062</td>\n",
       "      <td>-0.310829</td>\n",
       "      <td>-1.555671</td>\n",
       "    </tr>\n",
       "    <tr>\n",
       "      <th>1</th>\n",
       "      <td>-0.674877</td>\n",
       "      <td>1.048064</td>\n",
       "      <td>1.178493</td>\n",
       "      <td>-1.269769</td>\n",
       "    </tr>\n",
       "    <tr>\n",
       "      <th>2</th>\n",
       "      <td>-0.379364</td>\n",
       "      <td>0.764829</td>\n",
       "      <td>-0.227512</td>\n",
       "      <td>-0.657047</td>\n",
       "    </tr>\n",
       "    <tr>\n",
       "      <th>3</th>\n",
       "      <td>-0.650801</td>\n",
       "      <td>-1.792464</td>\n",
       "      <td>-0.904626</td>\n",
       "      <td>0.656273</td>\n",
       "    </tr>\n",
       "    <tr>\n",
       "      <th>4</th>\n",
       "      <td>-0.040711</td>\n",
       "      <td>-1.237936</td>\n",
       "      <td>1.192487</td>\n",
       "      <td>1.710018</td>\n",
       "    </tr>\n",
       "    <tr>\n",
       "      <th>5</th>\n",
       "      <td>1.428204</td>\n",
       "      <td>-0.291589</td>\n",
       "      <td>1.338573</td>\n",
       "      <td>0.778127</td>\n",
       "    </tr>\n",
       "    <tr>\n",
       "      <th>6</th>\n",
       "      <td>-1.477740</td>\n",
       "      <td>-0.478519</td>\n",
       "      <td>-0.026250</td>\n",
       "      <td>-1.039459</td>\n",
       "    </tr>\n",
       "    <tr>\n",
       "      <th>7</th>\n",
       "      <td>1.940841</td>\n",
       "      <td>0.860750</td>\n",
       "      <td>0.037533</td>\n",
       "      <td>-0.097209</td>\n",
       "    </tr>\n",
       "    <tr>\n",
       "      <th>8</th>\n",
       "      <td>1.665129</td>\n",
       "      <td>-0.182415</td>\n",
       "      <td>-0.385203</td>\n",
       "      <td>0.662129</td>\n",
       "    </tr>\n",
       "    <tr>\n",
       "      <th>9</th>\n",
       "      <td>0.831367</td>\n",
       "      <td>0.398380</td>\n",
       "      <td>1.151593</td>\n",
       "      <td>-1.626961</td>\n",
       "    </tr>\n",
       "  </tbody>\n",
       "</table>\n",
       "</div>"
      ],
      "text/plain": [
       "          0         1         2         3\n",
       "0 -0.110448 -0.354062 -0.310829 -1.555671\n",
       "1 -0.674877  1.048064  1.178493 -1.269769\n",
       "2 -0.379364  0.764829 -0.227512 -0.657047\n",
       "3 -0.650801 -1.792464 -0.904626  0.656273\n",
       "4 -0.040711 -1.237936  1.192487  1.710018\n",
       "5  1.428204 -0.291589  1.338573  0.778127\n",
       "6 -1.477740 -0.478519 -0.026250 -1.039459\n",
       "7  1.940841  0.860750  0.037533 -0.097209\n",
       "8  1.665129 -0.182415 -0.385203  0.662129\n",
       "9  0.831367  0.398380  1.151593 -1.626961"
      ]
     },
     "execution_count": 52,
     "metadata": {},
     "output_type": "execute_result"
    }
   ],
   "source": [
    "df = pd.DataFrame(np.random.randn(10,4))\n",
    "df"
   ]
  },
  {
   "cell_type": "code",
   "execution_count": 54,
   "metadata": {},
   "outputs": [
    {
     "data": {
      "text/plain": [
       "[          0         1         2         3\n",
       " 0 -0.110448 -0.354062 -0.310829 -1.555671\n",
       " 1 -0.674877  1.048064  1.178493 -1.269769\n",
       " 2 -0.379364  0.764829 -0.227512 -0.657047,\n",
       "           0         1         2         3\n",
       " 3 -0.650801 -1.792464 -0.904626  0.656273\n",
       " 4 -0.040711 -1.237936  1.192487  1.710018\n",
       " 5  1.428204 -0.291589  1.338573  0.778127\n",
       " 6 -1.477740 -0.478519 -0.026250 -1.039459,\n",
       "           0         1         2         3\n",
       " 7  1.940841  0.860750  0.037533 -0.097209\n",
       " 8  1.665129 -0.182415 -0.385203  0.662129\n",
       " 9  0.831367  0.398380  1.151593 -1.626961]"
      ]
     },
     "execution_count": 54,
     "metadata": {},
     "output_type": "execute_result"
    }
   ],
   "source": [
    "df2 = [df[:3], df[3:7], df[7:]]\n",
    "df2"
   ]
  },
  {
   "cell_type": "code",
   "execution_count": 56,
   "metadata": {},
   "outputs": [
    {
     "data": {
      "text/html": [
       "<div>\n",
       "<style scoped>\n",
       "    .dataframe tbody tr th:only-of-type {\n",
       "        vertical-align: middle;\n",
       "    }\n",
       "\n",
       "    .dataframe tbody tr th {\n",
       "        vertical-align: top;\n",
       "    }\n",
       "\n",
       "    .dataframe thead th {\n",
       "        text-align: right;\n",
       "    }\n",
       "</style>\n",
       "<table border=\"1\" class=\"dataframe\">\n",
       "  <thead>\n",
       "    <tr style=\"text-align: right;\">\n",
       "      <th></th>\n",
       "      <th>0</th>\n",
       "      <th>1</th>\n",
       "      <th>2</th>\n",
       "      <th>3</th>\n",
       "    </tr>\n",
       "  </thead>\n",
       "  <tbody>\n",
       "    <tr>\n",
       "      <th>0</th>\n",
       "      <td>-0.110448</td>\n",
       "      <td>-0.354062</td>\n",
       "      <td>-0.310829</td>\n",
       "      <td>-1.555671</td>\n",
       "    </tr>\n",
       "    <tr>\n",
       "      <th>1</th>\n",
       "      <td>-0.674877</td>\n",
       "      <td>1.048064</td>\n",
       "      <td>1.178493</td>\n",
       "      <td>-1.269769</td>\n",
       "    </tr>\n",
       "    <tr>\n",
       "      <th>2</th>\n",
       "      <td>-0.379364</td>\n",
       "      <td>0.764829</td>\n",
       "      <td>-0.227512</td>\n",
       "      <td>-0.657047</td>\n",
       "    </tr>\n",
       "    <tr>\n",
       "      <th>3</th>\n",
       "      <td>-0.650801</td>\n",
       "      <td>-1.792464</td>\n",
       "      <td>-0.904626</td>\n",
       "      <td>0.656273</td>\n",
       "    </tr>\n",
       "    <tr>\n",
       "      <th>4</th>\n",
       "      <td>-0.040711</td>\n",
       "      <td>-1.237936</td>\n",
       "      <td>1.192487</td>\n",
       "      <td>1.710018</td>\n",
       "    </tr>\n",
       "    <tr>\n",
       "      <th>5</th>\n",
       "      <td>1.428204</td>\n",
       "      <td>-0.291589</td>\n",
       "      <td>1.338573</td>\n",
       "      <td>0.778127</td>\n",
       "    </tr>\n",
       "    <tr>\n",
       "      <th>6</th>\n",
       "      <td>-1.477740</td>\n",
       "      <td>-0.478519</td>\n",
       "      <td>-0.026250</td>\n",
       "      <td>-1.039459</td>\n",
       "    </tr>\n",
       "    <tr>\n",
       "      <th>7</th>\n",
       "      <td>1.940841</td>\n",
       "      <td>0.860750</td>\n",
       "      <td>0.037533</td>\n",
       "      <td>-0.097209</td>\n",
       "    </tr>\n",
       "    <tr>\n",
       "      <th>8</th>\n",
       "      <td>1.665129</td>\n",
       "      <td>-0.182415</td>\n",
       "      <td>-0.385203</td>\n",
       "      <td>0.662129</td>\n",
       "    </tr>\n",
       "    <tr>\n",
       "      <th>9</th>\n",
       "      <td>0.831367</td>\n",
       "      <td>0.398380</td>\n",
       "      <td>1.151593</td>\n",
       "      <td>-1.626961</td>\n",
       "    </tr>\n",
       "  </tbody>\n",
       "</table>\n",
       "</div>"
      ],
      "text/plain": [
       "          0         1         2         3\n",
       "0 -0.110448 -0.354062 -0.310829 -1.555671\n",
       "1 -0.674877  1.048064  1.178493 -1.269769\n",
       "2 -0.379364  0.764829 -0.227512 -0.657047\n",
       "3 -0.650801 -1.792464 -0.904626  0.656273\n",
       "4 -0.040711 -1.237936  1.192487  1.710018\n",
       "5  1.428204 -0.291589  1.338573  0.778127\n",
       "6 -1.477740 -0.478519 -0.026250 -1.039459\n",
       "7  1.940841  0.860750  0.037533 -0.097209\n",
       "8  1.665129 -0.182415 -0.385203  0.662129\n",
       "9  0.831367  0.398380  1.151593 -1.626961"
      ]
     },
     "execution_count": 56,
     "metadata": {},
     "output_type": "execute_result"
    }
   ],
   "source": [
    "pd.concat(df2)"
   ]
  },
  {
   "cell_type": "code",
   "execution_count": 67,
   "metadata": {},
   "outputs": [],
   "source": [
    "left = pd.DataFrame({'A': [1,2,2,1,1,2], 'B': [3,4,5,6,7,8]})\n",
    "right = pd.DataFrame({'C': [2,2,2,2,2,2], 'D': [4,4,4,4,4,4]})"
   ]
  },
  {
   "cell_type": "code",
   "execution_count": 68,
   "metadata": {},
   "outputs": [
    {
     "data": {
      "text/html": [
       "<div>\n",
       "<style scoped>\n",
       "    .dataframe tbody tr th:only-of-type {\n",
       "        vertical-align: middle;\n",
       "    }\n",
       "\n",
       "    .dataframe tbody tr th {\n",
       "        vertical-align: top;\n",
       "    }\n",
       "\n",
       "    .dataframe thead th {\n",
       "        text-align: right;\n",
       "    }\n",
       "</style>\n",
       "<table border=\"1\" class=\"dataframe\">\n",
       "  <thead>\n",
       "    <tr style=\"text-align: right;\">\n",
       "      <th></th>\n",
       "      <th>A</th>\n",
       "      <th>B</th>\n",
       "    </tr>\n",
       "  </thead>\n",
       "  <tbody>\n",
       "    <tr>\n",
       "      <th>0</th>\n",
       "      <td>1</td>\n",
       "      <td>3</td>\n",
       "    </tr>\n",
       "    <tr>\n",
       "      <th>1</th>\n",
       "      <td>2</td>\n",
       "      <td>4</td>\n",
       "    </tr>\n",
       "    <tr>\n",
       "      <th>2</th>\n",
       "      <td>2</td>\n",
       "      <td>5</td>\n",
       "    </tr>\n",
       "    <tr>\n",
       "      <th>3</th>\n",
       "      <td>1</td>\n",
       "      <td>6</td>\n",
       "    </tr>\n",
       "    <tr>\n",
       "      <th>4</th>\n",
       "      <td>1</td>\n",
       "      <td>7</td>\n",
       "    </tr>\n",
       "    <tr>\n",
       "      <th>5</th>\n",
       "      <td>2</td>\n",
       "      <td>8</td>\n",
       "    </tr>\n",
       "  </tbody>\n",
       "</table>\n",
       "</div>"
      ],
      "text/plain": [
       "   A  B\n",
       "0  1  3\n",
       "1  2  4\n",
       "2  2  5\n",
       "3  1  6\n",
       "4  1  7\n",
       "5  2  8"
      ]
     },
     "execution_count": 68,
     "metadata": {},
     "output_type": "execute_result"
    }
   ],
   "source": [
    "left"
   ]
  },
  {
   "cell_type": "code",
   "execution_count": 69,
   "metadata": {},
   "outputs": [
    {
     "data": {
      "text/html": [
       "<div>\n",
       "<style scoped>\n",
       "    .dataframe tbody tr th:only-of-type {\n",
       "        vertical-align: middle;\n",
       "    }\n",
       "\n",
       "    .dataframe tbody tr th {\n",
       "        vertical-align: top;\n",
       "    }\n",
       "\n",
       "    .dataframe thead th {\n",
       "        text-align: right;\n",
       "    }\n",
       "</style>\n",
       "<table border=\"1\" class=\"dataframe\">\n",
       "  <thead>\n",
       "    <tr style=\"text-align: right;\">\n",
       "      <th></th>\n",
       "      <th>C</th>\n",
       "      <th>D</th>\n",
       "    </tr>\n",
       "  </thead>\n",
       "  <tbody>\n",
       "    <tr>\n",
       "      <th>0</th>\n",
       "      <td>2</td>\n",
       "      <td>4</td>\n",
       "    </tr>\n",
       "    <tr>\n",
       "      <th>1</th>\n",
       "      <td>2</td>\n",
       "      <td>4</td>\n",
       "    </tr>\n",
       "    <tr>\n",
       "      <th>2</th>\n",
       "      <td>2</td>\n",
       "      <td>4</td>\n",
       "    </tr>\n",
       "    <tr>\n",
       "      <th>3</th>\n",
       "      <td>2</td>\n",
       "      <td>4</td>\n",
       "    </tr>\n",
       "    <tr>\n",
       "      <th>4</th>\n",
       "      <td>2</td>\n",
       "      <td>4</td>\n",
       "    </tr>\n",
       "    <tr>\n",
       "      <th>5</th>\n",
       "      <td>2</td>\n",
       "      <td>4</td>\n",
       "    </tr>\n",
       "  </tbody>\n",
       "</table>\n",
       "</div>"
      ],
      "text/plain": [
       "   C  D\n",
       "0  2  4\n",
       "1  2  4\n",
       "2  2  4\n",
       "3  2  4\n",
       "4  2  4\n",
       "5  2  4"
      ]
     },
     "execution_count": 69,
     "metadata": {},
     "output_type": "execute_result"
    }
   ],
   "source": [
    "right"
   ]
  },
  {
   "cell_type": "code",
   "execution_count": 70,
   "metadata": {},
   "outputs": [
    {
     "data": {
      "text/html": [
       "<div>\n",
       "<style scoped>\n",
       "    .dataframe tbody tr th:only-of-type {\n",
       "        vertical-align: middle;\n",
       "    }\n",
       "\n",
       "    .dataframe tbody tr th {\n",
       "        vertical-align: top;\n",
       "    }\n",
       "\n",
       "    .dataframe thead th {\n",
       "        text-align: right;\n",
       "    }\n",
       "</style>\n",
       "<table border=\"1\" class=\"dataframe\">\n",
       "  <thead>\n",
       "    <tr style=\"text-align: right;\">\n",
       "      <th></th>\n",
       "      <th>A</th>\n",
       "      <th>B</th>\n",
       "      <th>C</th>\n",
       "      <th>D</th>\n",
       "    </tr>\n",
       "  </thead>\n",
       "  <tbody>\n",
       "    <tr>\n",
       "      <th>0</th>\n",
       "      <td>1</td>\n",
       "      <td>3</td>\n",
       "      <td>2</td>\n",
       "      <td>4</td>\n",
       "    </tr>\n",
       "    <tr>\n",
       "      <th>1</th>\n",
       "      <td>2</td>\n",
       "      <td>4</td>\n",
       "      <td>2</td>\n",
       "      <td>4</td>\n",
       "    </tr>\n",
       "    <tr>\n",
       "      <th>2</th>\n",
       "      <td>2</td>\n",
       "      <td>5</td>\n",
       "      <td>2</td>\n",
       "      <td>4</td>\n",
       "    </tr>\n",
       "    <tr>\n",
       "      <th>3</th>\n",
       "      <td>1</td>\n",
       "      <td>6</td>\n",
       "      <td>2</td>\n",
       "      <td>4</td>\n",
       "    </tr>\n",
       "    <tr>\n",
       "      <th>4</th>\n",
       "      <td>1</td>\n",
       "      <td>7</td>\n",
       "      <td>2</td>\n",
       "      <td>4</td>\n",
       "    </tr>\n",
       "    <tr>\n",
       "      <th>5</th>\n",
       "      <td>2</td>\n",
       "      <td>8</td>\n",
       "      <td>2</td>\n",
       "      <td>4</td>\n",
       "    </tr>\n",
       "  </tbody>\n",
       "</table>\n",
       "</div>"
      ],
      "text/plain": [
       "   A  B  C  D\n",
       "0  1  3  2  4\n",
       "1  2  4  2  4\n",
       "2  2  5  2  4\n",
       "3  1  6  2  4\n",
       "4  1  7  2  4\n",
       "5  2  8  2  4"
      ]
     },
     "execution_count": 70,
     "metadata": {},
     "output_type": "execute_result"
    }
   ],
   "source": [
    "df3 = pd.concat([left,right], axis = 1)\n",
    "df3"
   ]
  },
  {
   "cell_type": "markdown",
   "metadata": {},
   "source": [
    "#### Group by on columns"
   ]
  },
  {
   "cell_type": "code",
   "execution_count": 71,
   "metadata": {},
   "outputs": [
    {
     "data": {
      "text/html": [
       "<div>\n",
       "<style scoped>\n",
       "    .dataframe tbody tr th:only-of-type {\n",
       "        vertical-align: middle;\n",
       "    }\n",
       "\n",
       "    .dataframe tbody tr th {\n",
       "        vertical-align: top;\n",
       "    }\n",
       "\n",
       "    .dataframe thead th {\n",
       "        text-align: right;\n",
       "    }\n",
       "</style>\n",
       "<table border=\"1\" class=\"dataframe\">\n",
       "  <thead>\n",
       "    <tr style=\"text-align: right;\">\n",
       "      <th></th>\n",
       "      <th>B</th>\n",
       "      <th>C</th>\n",
       "      <th>D</th>\n",
       "    </tr>\n",
       "    <tr>\n",
       "      <th>A</th>\n",
       "      <th></th>\n",
       "      <th></th>\n",
       "      <th></th>\n",
       "    </tr>\n",
       "  </thead>\n",
       "  <tbody>\n",
       "    <tr>\n",
       "      <th>1</th>\n",
       "      <td>16</td>\n",
       "      <td>6</td>\n",
       "      <td>12</td>\n",
       "    </tr>\n",
       "    <tr>\n",
       "      <th>2</th>\n",
       "      <td>17</td>\n",
       "      <td>6</td>\n",
       "      <td>12</td>\n",
       "    </tr>\n",
       "  </tbody>\n",
       "</table>\n",
       "</div>"
      ],
      "text/plain": [
       "    B  C   D\n",
       "A           \n",
       "1  16  6  12\n",
       "2  17  6  12"
      ]
     },
     "execution_count": 71,
     "metadata": {},
     "output_type": "execute_result"
    }
   ],
   "source": [
    "# Group by\n",
    "\n",
    "df3.groupby('A').sum()"
   ]
  }
 ],
 "metadata": {
  "kernelspec": {
   "display_name": "Python 3",
   "language": "python",
   "name": "python3"
  },
  "language_info": {
   "codemirror_mode": {
    "name": "ipython",
    "version": 3
   },
   "file_extension": ".py",
   "mimetype": "text/x-python",
   "name": "python",
   "nbconvert_exporter": "python",
   "pygments_lexer": "ipython3",
   "version": "3.6.5"
  }
 },
 "nbformat": 4,
 "nbformat_minor": 2
}
