{
  "nbformat": 4,
  "nbformat_minor": 0,
  "metadata": {
    "kernelspec": {
      "display_name": "Python 3",
      "language": "python",
      "name": "python3"
    },
    "language_info": {
      "codemirror_mode": {
        "name": "ipython",
        "version": 3
      },
      "file_extension": ".py",
      "mimetype": "text/x-python",
      "name": "python",
      "nbconvert_exporter": "python",
      "pygments_lexer": "ipython3",
      "version": "3.6.5"
    },
    "colab": {
      "name": "Handwritten_Digit_Recognizer_Keras_CNN.ipynb",
      "provenance": []
    }
  },
  "cells": [
    {
      "cell_type": "markdown",
      "metadata": {
        "id": "zoF3LRBBTcqa",
        "colab_type": "text"
      },
      "source": [
        "# Handwritten Digit Recognition using Convolutional Neural Networks in Python with Keras"
      ]
    },
    {
      "cell_type": "code",
      "metadata": {
        "id": "yRSmtMzHTdkV",
        "colab_type": "code",
        "colab": {
          "base_uri": "https://localhost:8080/",
          "height": 143
        },
        "outputId": "59e3e777-40ce-4a43-dc7f-fc03c93946bf"
      },
      "source": [
        "from google.colab import drive\n",
        "drive.mount('/content/drive')\n",
        "import os \n",
        "dirs= os.listdir(\"/content/drive/My Drive/GUIST_Webinar_Files/Jupyter_Notebook_Codes\")\n",
        "print(dirs)"
      ],
      "execution_count": null,
      "outputs": [
        {
          "output_type": "stream",
          "text": [
            "Go to this URL in a browser: https://accounts.google.com/o/oauth2/auth?client_id=947318989803-6bn6qk8qdgf4n4g3pfee6491hc0brc4i.apps.googleusercontent.com&redirect_uri=urn%3aietf%3awg%3aoauth%3a2.0%3aoob&response_type=code&scope=email%20https%3a%2f%2fwww.googleapis.com%2fauth%2fdocs.test%20https%3a%2f%2fwww.googleapis.com%2fauth%2fdrive%20https%3a%2f%2fwww.googleapis.com%2fauth%2fdrive.photos.readonly%20https%3a%2f%2fwww.googleapis.com%2fauth%2fpeopleapi.readonly\n",
            "\n",
            "Enter your authorization code:\n",
            "··········\n",
            "Mounted at /content/drive\n",
            "['diabetes.csv', 'ds_life_cycle.jpeg', 'data.csv', 'python-ml-breast-cancer-diagnostic-data-set.ipynb', 'mnist.npz', 'h.png', 'intro-to-keras-with-breast-cancer-data-ann.ipynb', 'Complete_ML_Tutorial.ipynb', 'Kmeans.ipynb', 'Handwritten_Digit_Recognizer_Keras_CNN.ipynb', '.DS_Store', '.ipynb_checkpoints']\n"
          ],
          "name": "stdout"
        }
      ]
    },
    {
      "cell_type": "markdown",
      "metadata": {
        "id": "AGIwRSj9Tcqc",
        "colab_type": "text"
      },
      "source": [
        "The MNIST problem is a dataset developed by Yann LeCun, Corinna Cortes and Christopher Burges for evaluating machine learning models on the handwritten digit classification problem."
      ]
    },
    {
      "cell_type": "markdown",
      "metadata": {
        "id": "Sm5KVAqTTcqe",
        "colab_type": "text"
      },
      "source": [
        "Images of digits were taken from a variety of scanned documents, normalized in size and centered. This makes it an excellent dataset for evaluating models, allowing the developer to focus on the machine learning with very little data cleaning or preparation required."
      ]
    },
    {
      "cell_type": "markdown",
      "metadata": {
        "id": "Noj2IINATcqg",
        "colab_type": "text"
      },
      "source": [
        "Each image is a 28 by 28 pixel square (784 pixels total). A standard split of the dataset is used to evaluate and compare models, where 60,000 images are used to train a model and a separate set of 10,000 images are used to test it."
      ]
    },
    {
      "cell_type": "markdown",
      "metadata": {
        "id": "7yKpVLJjTcqh",
        "colab_type": "text"
      },
      "source": [
        "It is a digit recognition task. As such there are 10 digits (0 to 9) or 10 classes to predict. Results are reported using prediction error, which is nothing more than the inverted classification accuracy."
      ]
    },
    {
      "cell_type": "markdown",
      "metadata": {
        "id": "hDRu__iFTcqj",
        "colab_type": "text"
      },
      "source": [
        "## Loading the MNIST dataset in Keras"
      ]
    },
    {
      "cell_type": "code",
      "metadata": {
        "scrolled": true,
        "id": "9i96JswITcqk",
        "colab_type": "code",
        "colab": {
          "base_uri": "https://localhost:8080/",
          "height": 268
        },
        "outputId": "b86e1407-7958-4e96-e6e3-d254b8744788"
      },
      "source": [
        "# Plot ad hoc mnist instances\n",
        "from keras.datasets import mnist\n",
        "import matplotlib.pyplot as plt\n",
        "# load (downloaded if needed) the MNIST dataset\n",
        "(X_train, y_train), (X_test, y_test) = mnist.load_data()\n",
        "# plot 4 images as gray scale\n",
        "plt.subplot(221)\n",
        "plt.imshow(X_train[0], cmap=plt.get_cmap('gray'))\n",
        "plt.subplot(222)\n",
        "plt.imshow(X_train[1], cmap=plt.get_cmap('gray'))\n",
        "plt.subplot(223)\n",
        "plt.imshow(X_train[2], cmap=plt.get_cmap('gray'))\n",
        "plt.subplot(224)\n",
        "plt.imshow(X_train[3], cmap=plt.get_cmap('gray'))\n",
        "# show the plot\n",
        "plt.show()"
      ],
      "execution_count": 3,
      "outputs": [
        {
          "output_type": "display_data",
          "data": {
            "image/png": "[encoded data removed]",
            "text/plain": [
              "<Figure size 432x288 with 4 Axes>"
            ]
          },
          "metadata": {
            "tags": [],
            "needs_background": "light"
          }
        }
      ]
    },
    {
      "cell_type": "markdown",
      "metadata": {
        "id": "_toss_h_Tcq0",
        "colab_type": "text"
      },
      "source": [
        "## Baseline Model with Multi-Layer Perceptrons"
      ]
    },
    {
      "cell_type": "markdown",
      "metadata": {
        "id": "GONv7TcUTcq1",
        "colab_type": "text"
      },
      "source": [
        "Do we really need a complex model like a convolutional neural network to get the best results with MNIST?"
      ]
    },
    {
      "cell_type": "markdown",
      "metadata": {
        "id": "KqXDtAl_Tcq3",
        "colab_type": "text"
      },
      "source": [
        "You can get very good results using a very simple neural network model with a single hidden layer. In this section we will create a simple multi-layer perceptron model that achieves an error rate of 1.74%. We will use this as a baseline for comparing more complex convolutional neural network models."
      ]
    },
    {
      "cell_type": "code",
      "metadata": {
        "id": "sXbAVEgXTcq4",
        "colab_type": "code",
        "colab": {}
      },
      "source": [
        "import numpy\n",
        "from keras.datasets import mnist\n",
        "from keras.models import Sequential\n",
        "from keras.layers import Dense\n",
        "from keras.layers import Dropout\n",
        "from keras.utils import np_utils"
      ],
      "execution_count": null,
      "outputs": []
    },
    {
      "cell_type": "code",
      "metadata": {
        "id": "wqiR3YKtTcq_",
        "colab_type": "code",
        "colab": {}
      },
      "source": [
        "# fix random seed for reproducibility\n",
        "seed = 7\n",
        "numpy.random.seed(seed)"
      ],
      "execution_count": null,
      "outputs": []
    },
    {
      "cell_type": "code",
      "metadata": {
        "id": "sCCX7-wzTcrG",
        "colab_type": "code",
        "colab": {}
      },
      "source": [
        "# load data\n",
        "(X_train, y_train), (X_test, y_test) = mnist.load_data()"
      ],
      "execution_count": null,
      "outputs": []
    },
    {
      "cell_type": "code",
      "metadata": {
        "id": "jYId4BwHTcrN",
        "colab_type": "code",
        "colab": {}
      },
      "source": [
        "# flatten 28*28 images to a 784 vector for each image\n",
        "num_pixels = X_train.shape[1] * X_train.shape[2]\n",
        "X_train = X_train.reshape(X_train.shape[0], num_pixels).astype('float32')\n",
        "X_test = X_test.reshape(X_test.shape[0], num_pixels).astype('float32')"
      ],
      "execution_count": null,
      "outputs": []
    },
    {
      "cell_type": "code",
      "metadata": {
        "id": "9Z_RDf9tTcrT",
        "colab_type": "code",
        "colab": {}
      },
      "source": [
        "# normalize inputs from 0-255 to 0-1\n",
        "X_train = X_train / 255\n",
        "X_test = X_test / 255"
      ],
      "execution_count": null,
      "outputs": []
    },
    {
      "cell_type": "code",
      "metadata": {
        "id": "79F7h3KsTcrZ",
        "colab_type": "code",
        "colab": {}
      },
      "source": [
        "# one hot encode outputs\n",
        "y_train = np_utils.to_categorical(y_train)\n",
        "y_test = np_utils.to_categorical(y_test)\n",
        "num_classes = y_test.shape[1]"
      ],
      "execution_count": null,
      "outputs": []
    },
    {
      "cell_type": "code",
      "metadata": {
        "id": "HMVLUlwjTcre",
        "colab_type": "code",
        "colab": {}
      },
      "source": [
        "# define baseline model\n",
        "def baseline_model():\n",
        "    # create model\n",
        "    model = Sequential()\n",
        "    model.add(Dense(num_pixels, input_dim=num_pixels, kernel_initializer='normal', activation='relu'))\n",
        "    model.add(Dense(num_classes, kernel_initializer='normal', activation='softmax'))\n",
        "    # Compile model\n",
        "    model.compile(loss='categorical_crossentropy', optimizer='adam', metrics=['accuracy'])\n",
        "    return model"
      ],
      "execution_count": null,
      "outputs": []
    },
    {
      "cell_type": "code",
      "metadata": {
        "scrolled": true,
        "id": "okG2LI13Tcrk",
        "colab_type": "code",
        "colab": {},
        "outputId": "5fefdf27-41a8-4f99-d832-16d72aea8c17"
      },
      "source": [
        "# build the model\n",
        "model = baseline_model()\n",
        "# Fit the model\n",
        "model.fit(X_train, y_train, validation_data=(X_test, y_test), epochs=10, batch_size=200, verbose=2)\n",
        "# Final evaluation of the model\n",
        "scores = model.evaluate(X_test, y_test, verbose=0)\n",
        "print(\"Baseline Error: %.2f%%\" % (100-scores[1]*100))"
      ],
      "execution_count": null,
      "outputs": [
        {
          "output_type": "stream",
          "text": [
            "Train on 60000 samples, validate on 10000 samples\n",
            "Epoch 1/10\n",
            " - 3s - loss: 0.2800 - acc: 0.9206 - val_loss: 0.1420 - val_acc: 0.9573\n",
            "Epoch 2/10\n",
            " - 3s - loss: 0.1118 - acc: 0.9676 - val_loss: 0.0922 - val_acc: 0.9704\n",
            "Epoch 3/10\n",
            " - 3s - loss: 0.0717 - acc: 0.9796 - val_loss: 0.0790 - val_acc: 0.9772\n",
            "Epoch 4/10\n",
            " - 3s - loss: 0.0504 - acc: 0.9858 - val_loss: 0.0747 - val_acc: 0.9765\n",
            "Epoch 5/10\n",
            " - 3s - loss: 0.0373 - acc: 0.9888 - val_loss: 0.0680 - val_acc: 0.9791\n",
            "Epoch 6/10\n",
            " - 3s - loss: 0.0269 - acc: 0.9929 - val_loss: 0.0620 - val_acc: 0.9805\n",
            "Epoch 7/10\n",
            " - 3s - loss: 0.0207 - acc: 0.9947 - val_loss: 0.0612 - val_acc: 0.9811\n",
            "Epoch 8/10\n",
            " - 3s - loss: 0.0138 - acc: 0.9969 - val_loss: 0.0619 - val_acc: 0.9803\n",
            "Epoch 9/10\n",
            " - 3s - loss: 0.0108 - acc: 0.9978 - val_loss: 0.0580 - val_acc: 0.9815\n",
            "Epoch 10/10\n",
            " - 3s - loss: 0.0083 - acc: 0.9984 - val_loss: 0.0597 - val_acc: 0.9815\n",
            "Baseline Error: 1.85%\n"
          ],
          "name": "stdout"
        }
      ]
    },
    {
      "cell_type": "markdown",
      "metadata": {
        "id": "YUx_g-CiTcrp",
        "colab_type": "text"
      },
      "source": [
        "## Simple Convolutional Neural Network for MNIST"
      ]
    },
    {
      "cell_type": "markdown",
      "metadata": {
        "id": "6brDoaa1Tcrr",
        "colab_type": "text"
      },
      "source": [
        "Now that we have seen how to load the MNIST dataset and train a simple multi-layer perceptron model on it, it is time to develop a more sophisticated convolutional neural network or CNN model."
      ]
    },
    {
      "cell_type": "markdown",
      "metadata": {
        "id": "geVSQSbCTcrs",
        "colab_type": "text"
      },
      "source": [
        "In this section we will create a simple CNN for MNIST that demonstrates how to use all of the aspects of a modern CNN implementation, including Convolutional layers, Pooling layers and Dropout layers."
      ]
    },
    {
      "cell_type": "code",
      "metadata": {
        "id": "ye9UxFa7Tcrt",
        "colab_type": "code",
        "colab": {}
      },
      "source": [
        "import numpy\n",
        "from keras.datasets import mnist\n",
        "from keras.models import Sequential\n",
        "from keras.layers import Dense\n",
        "from keras.layers import Dropout\n",
        "from keras.layers import Flatten\n",
        "from keras.layers.convolutional import Conv2D\n",
        "from keras.layers.convolutional import MaxPooling2D\n",
        "from keras.utils import np_utils\n",
        "from keras import backend as K\n",
        "K.set_image_dim_ordering('th')"
      ],
      "execution_count": null,
      "outputs": []
    },
    {
      "cell_type": "code",
      "metadata": {
        "id": "38Pe0IM-Tcrz",
        "colab_type": "code",
        "colab": {}
      },
      "source": [
        "# fix random seed for reproducibility\n",
        "seed = 7\n",
        "numpy.random.seed(seed)"
      ],
      "execution_count": null,
      "outputs": []
    },
    {
      "cell_type": "markdown",
      "metadata": {
        "id": "d6fs9Ny1Tcr5",
        "colab_type": "text"
      },
      "source": [
        "Next we need to load the MNIST dataset and reshape it so that it is suitable for use training a CNN. In Keras, the layers used for two-dimensional convolutions expect pixel values with the dimensions [pixels][width][height].\n",
        "\n",
        "In the case of RGB, the first dimension pixels would be 3 for the red, green and blue components and it would be like having 3 image inputs for every color image. In the case of MNIST where the pixel values are gray scale, the pixel dimension is set to 1."
      ]
    },
    {
      "cell_type": "code",
      "metadata": {
        "id": "1x0WfXIDTcr7",
        "colab_type": "code",
        "colab": {}
      },
      "source": [
        "# load data\n",
        "(X_train, y_train), (X_test, y_test) = mnist.load_data()\n",
        "# reshape to be [samples][pixels][width][height]\n",
        "X_train = X_train.reshape(X_train.shape[0], 1, 28, 28).astype('float32')\n",
        "X_test = X_test.reshape(X_test.shape[0], 1, 28, 28).astype('float32')"
      ],
      "execution_count": null,
      "outputs": []
    },
    {
      "cell_type": "code",
      "metadata": {
        "id": "BOK8AQIkTcr_",
        "colab_type": "code",
        "colab": {}
      },
      "source": [
        "# normalize inputs from 0-255 to 0-1\n",
        "X_train = X_train / 255\n",
        "X_test = X_test / 255\n",
        "# one hot encode outputs\n",
        "y_train = np_utils.to_categorical(y_train)\n",
        "y_test = np_utils.to_categorical(y_test)\n",
        "num_classes = y_test.shape[1]"
      ],
      "execution_count": null,
      "outputs": []
    },
    {
      "cell_type": "markdown",
      "metadata": {
        "id": "aW5GiEV5TcsF",
        "colab_type": "text"
      },
      "source": [
        "Convolutional neural networks are more complex than standard multi-layer perceptrons, so we will start by using a simple structure to begin with that uses all of the elements for state of the art results. Below summarizes the network architecture.\n",
        "\n",
        "1. The first hidden layer is a convolutional layer called a Convolution2D. The layer has 32 feature maps, which with the size of 5×5 and a rectifier activation function. This is the input layer, expecting images with the structure outline above [pixels][width][height].\n",
        "2. Next we define a pooling layer that takes the max called MaxPooling2D. It is configured with a pool size of 2×2.\n",
        "3. The next layer is a regularization layer using dropout called Dropout. It is configured to randomly exclude 20% of neurons in the layer in order to reduce overfitting.\n",
        "4. Next is a layer that converts the 2D matrix data to a vector called Flatten. It allows the output to be processed by standard fully connected layers.\n",
        "5. Next a fully connected layer with 128 neurons and rectifier activation function.\n",
        "6. Finally, the output layer has 10 neurons for the 10 classes and a softmax activation function to output probability-like predictions for each class."
      ]
    },
    {
      "cell_type": "code",
      "metadata": {
        "id": "7OYqPPl9TcsF",
        "colab_type": "code",
        "colab": {}
      },
      "source": [
        "def simple_cnn_model():\n",
        "    # create model\n",
        "    model = Sequential()\n",
        "    model.add(Conv2D(32, (5, 5), input_shape=(1, 28, 28), activation='relu'))\n",
        "    model.add(MaxPooling2D(pool_size=(2, 2)))\n",
        "    model.add(Dropout(0.2))\n",
        "    model.add(Flatten())\n",
        "    model.add(Dense(128, activation='relu'))\n",
        "    model.add(Dense(num_classes, activation='softmax'))\n",
        "    # Compile model\n",
        "    model.compile(loss='categorical_crossentropy', optimizer='adam', metrics=['accuracy'])\n",
        "    return model"
      ],
      "execution_count": null,
      "outputs": []
    },
    {
      "cell_type": "markdown",
      "metadata": {
        "id": "921TgxfoTcsK",
        "colab_type": "text"
      },
      "source": [
        "## Larger Convolutional Neural Network for MNIST\n"
      ]
    },
    {
      "cell_type": "code",
      "metadata": {
        "id": "nRVpIbPtTcsL",
        "colab_type": "code",
        "colab": {}
      },
      "source": [
        "def larger_cnn_model():\n",
        "    # create model\n",
        "    model = Sequential()\n",
        "    model.add(Conv2D(30, (5, 5), input_shape=(1, 28, 28), activation='relu'))\n",
        "    model.add(MaxPooling2D(pool_size=(2, 2)))\n",
        "    model.add(Conv2D(15, (3, 3), activation='relu'))\n",
        "    model.add(MaxPooling2D(pool_size=(2, 2)))\n",
        "    model.add(Dropout(0.2))\n",
        "    model.add(Flatten())\n",
        "    model.add(Dense(128, activation='relu'))\n",
        "    model.add(Dense(50, activation='relu'))\n",
        "    model.add(Dense(num_classes, activation='softmax'))\n",
        "    # Compile model\n",
        "    model.compile(loss='categorical_crossentropy', optimizer='adam', metrics=['accuracy'])\n",
        "    return model"
      ],
      "execution_count": null,
      "outputs": []
    },
    {
      "cell_type": "code",
      "metadata": {
        "id": "lFm7J0QyTcsQ",
        "colab_type": "code",
        "colab": {},
        "outputId": "6533697a-6f75-4dca-b42c-a82f6e43d459"
      },
      "source": [
        "# build the model\n",
        "model = simple_cnn_model()\n",
        "# Fit the model\n",
        "model.fit(X_train, y_train, validation_data=(X_test, y_test), epochs=10, batch_size=200, verbose=2)\n",
        "# Final evaluation of the model\n",
        "scores = model.evaluate(X_test, y_test, verbose=0)\n",
        "print(\"CNN Error: %.2f%%\" % (100-scores[1]*100))"
      ],
      "execution_count": null,
      "outputs": [
        {
          "output_type": "stream",
          "text": [
            "Train on 60000 samples, validate on 10000 samples\n",
            "Epoch 1/10\n",
            " - 54s - loss: 0.2238 - acc: 0.9366 - val_loss: 0.0792 - val_acc: 0.9749\n",
            "Epoch 2/10\n",
            " - 53s - loss: 0.0715 - acc: 0.9785 - val_loss: 0.0459 - val_acc: 0.9841\n",
            "Epoch 3/10\n",
            " - 57s - loss: 0.0512 - acc: 0.9842 - val_loss: 0.0436 - val_acc: 0.9857\n",
            "Epoch 4/10\n",
            " - 63s - loss: 0.0393 - acc: 0.9877 - val_loss: 0.0412 - val_acc: 0.9873\n",
            "Epoch 5/10\n",
            " - 62s - loss: 0.0328 - acc: 0.9895 - val_loss: 0.0348 - val_acc: 0.9885\n",
            "Epoch 6/10\n",
            " - 61s - loss: 0.0266 - acc: 0.9915 - val_loss: 0.0325 - val_acc: 0.9893\n",
            "Epoch 7/10\n",
            " - 61s - loss: 0.0221 - acc: 0.9931 - val_loss: 0.0349 - val_acc: 0.9879\n",
            "Epoch 8/10\n",
            " - 59s - loss: 0.0189 - acc: 0.9941 - val_loss: 0.0323 - val_acc: 0.9883\n",
            "Epoch 9/10\n",
            " - 60s - loss: 0.0154 - acc: 0.9949 - val_loss: 0.0316 - val_acc: 0.9896\n",
            "Epoch 10/10\n",
            " - 61s - loss: 0.0142 - acc: 0.9959 - val_loss: 0.0321 - val_acc: 0.9889\n",
            "CNN Error: 1.11%\n"
          ],
          "name": "stdout"
        }
      ]
    },
    {
      "cell_type": "code",
      "metadata": {
        "id": "BD9x1h5VTcsU",
        "colab_type": "code",
        "colab": {},
        "outputId": "3c9caf01-cd3c-4936-83f7-4d88a6b5974a"
      },
      "source": [
        "# build the model\n",
        "model = larger_cnn_model()\n",
        "# Fit the model\n",
        "model.fit(X_train, y_train, validation_data=(X_test, y_test), epochs=10, batch_size=200, verbose=2)\n",
        "# Final evaluation of the model\n",
        "scores = model.evaluate(X_test, y_test, verbose=0)\n",
        "print(\"CNN Error: %.2f%%\" % (100-scores[1]*100))"
      ],
      "execution_count": null,
      "outputs": [
        {
          "output_type": "stream",
          "text": [
            "Train on 60000 samples, validate on 10000 samples\n",
            "Epoch 1/10\n",
            " - 57s - loss: 0.3697 - acc: 0.8876 - val_loss: 0.0901 - val_acc: 0.9706\n",
            "Epoch 2/10\n",
            " - 58s - loss: 0.1026 - acc: 0.9688 - val_loss: 0.0586 - val_acc: 0.9821\n",
            "Epoch 3/10\n",
            " - 53s - loss: 0.0739 - acc: 0.9774 - val_loss: 0.0457 - val_acc: 0.9847\n",
            "Epoch 4/10\n",
            " - 56s - loss: 0.0594 - acc: 0.9816 - val_loss: 0.0394 - val_acc: 0.9864\n",
            "Epoch 5/10\n",
            " - 58s - loss: 0.0531 - acc: 0.9834 - val_loss: 0.0321 - val_acc: 0.9889\n",
            "Epoch 6/10\n",
            " - 58s - loss: 0.0480 - acc: 0.9849 - val_loss: 0.0291 - val_acc: 0.9894\n",
            "Epoch 7/10\n",
            " - 58s - loss: 0.0411 - acc: 0.9868 - val_loss: 0.0304 - val_acc: 0.9894\n",
            "Epoch 8/10\n",
            " - 58s - loss: 0.0381 - acc: 0.9879 - val_loss: 0.0276 - val_acc: 0.9897\n",
            "Epoch 9/10\n",
            " - 58s - loss: 0.0342 - acc: 0.9893 - val_loss: 0.0299 - val_acc: 0.9893\n",
            "Epoch 10/10\n",
            " - 58s - loss: 0.0317 - acc: 0.9904 - val_loss: 0.0282 - val_acc: 0.9909\n",
            "CNN Error: 0.91%\n"
          ],
          "name": "stdout"
        }
      ]
    }
  ]
}